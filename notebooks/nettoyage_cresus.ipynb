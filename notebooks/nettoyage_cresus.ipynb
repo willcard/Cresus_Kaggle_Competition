{
 "cells": [
  {
   "cell_type": "code",
   "execution_count": 1,
   "metadata": {},
   "outputs": [],
   "source": [
    "import pandas as pd\n",
    "import numpy as np\n",
    "\n",
    "import matplotlib\n",
    "import matplotlib.pyplot as plt\n",
    "%matplotlib inline\n",
    "\n",
    "from bokeh.plotting import figure, show, output_file\n",
    "import seaborn as sns"
   ]
  },
  {
   "cell_type": "code",
   "execution_count": 2,
   "metadata": {
    "scrolled": true
   },
   "outputs": [
    {
     "data": {
      "text/html": [
       "<div>\n",
       "<style scoped>\n",
       "    .dataframe tbody tr th:only-of-type {\n",
       "        vertical-align: middle;\n",
       "    }\n",
       "\n",
       "    .dataframe tbody tr th {\n",
       "        vertical-align: top;\n",
       "    }\n",
       "\n",
       "    .dataframe thead th {\n",
       "        text-align: right;\n",
       "    }\n",
       "</style>\n",
       "<table border=\"1\" class=\"dataframe\">\n",
       "  <thead>\n",
       "    <tr style=\"text-align: right;\">\n",
       "      <th></th>\n",
       "      <th>id</th>\n",
       "      <th>STRUCTURE PRESCRIPTRICE</th>\n",
       "      <th>PLATEFORME</th>\n",
       "      <th>year</th>\n",
       "      <th>month</th>\n",
       "      <th>region</th>\n",
       "      <th>ORIENTATION</th>\n",
       "      <th>NATURE_DIFF</th>\n",
       "      <th>age</th>\n",
       "      <th>tranche_age</th>\n",
       "      <th>...</th>\n",
       "      <th>nb_immo</th>\n",
       "      <th>crd_immo</th>\n",
       "      <th>nb_rac</th>\n",
       "      <th>crd_rac</th>\n",
       "      <th>nb_autres</th>\n",
       "      <th>crd_autres</th>\n",
       "      <th>nb_decouvert</th>\n",
       "      <th>crd_decouvert</th>\n",
       "      <th>moy_eco_jour</th>\n",
       "      <th>cat_moy_eco_jour</th>\n",
       "    </tr>\n",
       "  </thead>\n",
       "  <tbody>\n",
       "    <tr>\n",
       "      <th>0</th>\n",
       "      <td>1550</td>\n",
       "      <td>PRESCRIPTEUR35</td>\n",
       "      <td>bancaire</td>\n",
       "      <td>2015</td>\n",
       "      <td>7</td>\n",
       "      <td>BOURGOGNE FRANCHE COMTE</td>\n",
       "      <td>Surendettement</td>\n",
       "      <td>Surendettement</td>\n",
       "      <td>NaN</td>\n",
       "      <td>Non Renseigne</td>\n",
       "      <td>...</td>\n",
       "      <td>0</td>\n",
       "      <td>NaN</td>\n",
       "      <td>0</td>\n",
       "      <td>NaN</td>\n",
       "      <td>0</td>\n",
       "      <td>NaN</td>\n",
       "      <td>0</td>\n",
       "      <td>NaN</td>\n",
       "      <td>2,53333</td>\n",
       "      <td>0a2,99€</td>\n",
       "    </tr>\n",
       "    <tr>\n",
       "      <th>1</th>\n",
       "      <td>2249</td>\n",
       "      <td>PRESCRIPTEUR16</td>\n",
       "      <td>bancaire</td>\n",
       "      <td>2016</td>\n",
       "      <td>2</td>\n",
       "      <td>OCCITANIE</td>\n",
       "      <td>Mediation</td>\n",
       "      <td>Endettement</td>\n",
       "      <td>NaN</td>\n",
       "      <td>Non Renseigne</td>\n",
       "      <td>...</td>\n",
       "      <td>0</td>\n",
       "      <td>NaN</td>\n",
       "      <td>0</td>\n",
       "      <td>NaN</td>\n",
       "      <td>0</td>\n",
       "      <td>NaN</td>\n",
       "      <td>0</td>\n",
       "      <td>NaN</td>\n",
       "      <td>-3,31667</td>\n",
       "      <td>Négatif</td>\n",
       "    </tr>\n",
       "    <tr>\n",
       "      <th>2</th>\n",
       "      <td>2670</td>\n",
       "      <td>PRESCRIPTEUR18</td>\n",
       "      <td>social</td>\n",
       "      <td>2016</td>\n",
       "      <td>4</td>\n",
       "      <td>PROVENCE-ALPES-COTE-D'AZUR</td>\n",
       "      <td>Accompagnement</td>\n",
       "      <td>Endettement</td>\n",
       "      <td>NaN</td>\n",
       "      <td>Non Renseigne</td>\n",
       "      <td>...</td>\n",
       "      <td>0</td>\n",
       "      <td>NaN</td>\n",
       "      <td>0</td>\n",
       "      <td>NaN</td>\n",
       "      <td>1</td>\n",
       "      <td>3996</td>\n",
       "      <td>0</td>\n",
       "      <td>NaN</td>\n",
       "      <td>-24,7667</td>\n",
       "      <td>Négatif</td>\n",
       "    </tr>\n",
       "    <tr>\n",
       "      <th>3</th>\n",
       "      <td>1102</td>\n",
       "      <td>PRESCRIPTEUR6</td>\n",
       "      <td>bancaire</td>\n",
       "      <td>2014</td>\n",
       "      <td>11</td>\n",
       "      <td>BRETAGNE</td>\n",
       "      <td>Mediation</td>\n",
       "      <td>Multiendettement</td>\n",
       "      <td>NaN</td>\n",
       "      <td>Non Renseigne</td>\n",
       "      <td>...</td>\n",
       "      <td>0</td>\n",
       "      <td>NaN</td>\n",
       "      <td>0</td>\n",
       "      <td>NaN</td>\n",
       "      <td>0</td>\n",
       "      <td>NaN</td>\n",
       "      <td>0</td>\n",
       "      <td>NaN</td>\n",
       "      <td>29,5667</td>\n",
       "      <td>15€et+</td>\n",
       "    </tr>\n",
       "    <tr>\n",
       "      <th>4</th>\n",
       "      <td>7069</td>\n",
       "      <td>PRESCRIPTEUR23</td>\n",
       "      <td>social</td>\n",
       "      <td>2018</td>\n",
       "      <td>9</td>\n",
       "      <td>NOUVELLE AQUITAINE</td>\n",
       "      <td>Accompagnement</td>\n",
       "      <td>Difficultés de Gestion</td>\n",
       "      <td>24</td>\n",
       "      <td>&lt;25ans</td>\n",
       "      <td>...</td>\n",
       "      <td>0</td>\n",
       "      <td>NaN</td>\n",
       "      <td>0</td>\n",
       "      <td>NaN</td>\n",
       "      <td>0</td>\n",
       "      <td>NaN</td>\n",
       "      <td>0</td>\n",
       "      <td>NaN</td>\n",
       "      <td>-19,15</td>\n",
       "      <td>Négatif</td>\n",
       "    </tr>\n",
       "  </tbody>\n",
       "</table>\n",
       "<p>5 rows × 44 columns</p>\n",
       "</div>"
      ],
      "text/plain": [
       "     id STRUCTURE PRESCRIPTRICE PLATEFORME  year  month  \\\n",
       "0  1550          PRESCRIPTEUR35   bancaire  2015      7   \n",
       "1  2249          PRESCRIPTEUR16   bancaire  2016      2   \n",
       "2  2670          PRESCRIPTEUR18     social  2016      4   \n",
       "3  1102           PRESCRIPTEUR6   bancaire  2014     11   \n",
       "4  7069          PRESCRIPTEUR23     social  2018      9   \n",
       "\n",
       "                       region     ORIENTATION             NATURE_DIFF  age  \\\n",
       "0     BOURGOGNE FRANCHE COMTE  Surendettement          Surendettement  NaN   \n",
       "1                   OCCITANIE       Mediation             Endettement  NaN   \n",
       "2  PROVENCE-ALPES-COTE-D'AZUR  Accompagnement             Endettement  NaN   \n",
       "3                    BRETAGNE       Mediation        Multiendettement  NaN   \n",
       "4          NOUVELLE AQUITAINE  Accompagnement  Difficultés de Gestion   24   \n",
       "\n",
       "     tranche_age        ...        nb_immo crd_immo  nb_rac crd_rac nb_autres  \\\n",
       "0  Non Renseigne        ...              0      NaN       0     NaN         0   \n",
       "1  Non Renseigne        ...              0      NaN       0     NaN         0   \n",
       "2  Non Renseigne        ...              0      NaN       0     NaN         1   \n",
       "3  Non Renseigne        ...              0      NaN       0     NaN         0   \n",
       "4         <25ans        ...              0      NaN       0     NaN         0   \n",
       "\n",
       "   crd_autres nb_decouvert  crd_decouvert moy_eco_jour  cat_moy_eco_jour  \n",
       "0         NaN            0            NaN      2,53333           0a2,99€  \n",
       "1         NaN            0            NaN     -3,31667           Négatif  \n",
       "2        3996            0            NaN     -24,7667           Négatif  \n",
       "3         NaN            0            NaN      29,5667            15€et+  \n",
       "4         NaN            0            NaN       -19,15           Négatif  \n",
       "\n",
       "[5 rows x 44 columns]"
      ]
     },
     "execution_count": 2,
     "metadata": {},
     "output_type": "execute_result"
    }
   ],
   "source": [
    "train = pd.read_csv('data/train.csv')\n",
    "train = train.replace('\\\\N',np.NAN)\n",
    "n,p = train.shape\n",
    "train.head()"
   ]
  },
  {
   "cell_type": "markdown",
   "metadata": {},
   "source": [
    "## I - Traitement des types"
   ]
  },
  {
   "cell_type": "code",
   "execution_count": 3,
   "metadata": {},
   "outputs": [
    {
     "data": {
      "text/plain": [
       "Index(['STRUCTURE PRESCRIPTRICE', 'PLATEFORME', 'region', 'ORIENTATION',\n",
       "       'NATURE_DIFF', 'age', 'tranche_age', 'situation', 'adulte_foyer',\n",
       "       'PROF', 'LOGEMENT', 'cat_rev', 'cat_charges', 'cat_credit',\n",
       "       'IMPAYES_DEBUT', 'cat_impayes', 'cat_RAV_ouverture', 'RAV_UC',\n",
       "       'cat_RAV_UC', 'CRD', 'gain_mediation', 'crd_amort', 'crd_renouv',\n",
       "       'crd_immo', 'crd_rac', 'crd_autres', 'crd_decouvert', 'moy_eco_jour',\n",
       "       'cat_moy_eco_jour'],\n",
       "      dtype='object')"
      ]
     },
     "execution_count": 3,
     "metadata": {},
     "output_type": "execute_result"
    }
   ],
   "source": [
    "train.columns.to_series().groupby(train.dtypes.astype(str)).groups['object']"
   ]
  },
  {
   "cell_type": "markdown",
   "metadata": {},
   "source": [
    "### • Numeric"
   ]
  },
  {
   "cell_type": "code",
   "execution_count": 4,
   "metadata": {},
   "outputs": [],
   "source": [
    "for c in train.columns:\n",
    "    if 'crd_' in c or c in ['CRD','IMPAYES_DEBUT','age','adulte_foyer']:\n",
    "        train[c] = pd.to_numeric(train[c], errors='coerce')"
   ]
  },
  {
   "cell_type": "markdown",
   "metadata": {},
   "source": [
    "### • Float"
   ]
  },
  {
   "cell_type": "code",
   "execution_count": 5,
   "metadata": {},
   "outputs": [],
   "source": [
    "train.moy_eco_jour = train.moy_eco_jour.str.replace(',', '.', regex=False).astype(float)\n",
    "train.RAV_UC = train.RAV_UC.str.replace(',', '.', regex=False).astype(float)"
   ]
  },
  {
   "cell_type": "markdown",
   "metadata": {},
   "source": [
    "### • Date"
   ]
  },
  {
   "cell_type": "code",
   "execution_count": 6,
   "metadata": {},
   "outputs": [],
   "source": [
    "train['Date'] = pd.to_datetime(train.year.astype(str) + '-' + train.month.astype(str), format='%Y-%m')\n",
    "train = train.drop(columns=['year','month'])"
   ]
  },
  {
   "cell_type": "markdown",
   "metadata": {},
   "source": [
    "## II - Traitement des NA"
   ]
  },
  {
   "cell_type": "code",
   "execution_count": 7,
   "metadata": {},
   "outputs": [],
   "source": [
    "train = train.replace('Non Renseigne', np.NAN)"
   ]
  },
  {
   "cell_type": "code",
   "execution_count": 8,
   "metadata": {
    "scrolled": false
   },
   "outputs": [
    {
     "data": {
      "image/png": "[encoded data removed]",
      "text/plain": [
       "<Figure size 1008x432 with 1 Axes>"
      ]
     },
     "metadata": {
      "needs_background": "light"
     },
     "output_type": "display_data"
    }
   ],
   "source": [
    "train_na = train.isna().sum()/train.shape[0]\n",
    "\n",
    "plt.figure(figsize=(14,6))\n",
    "train_na.sort_values(ascending=False)[:20].plot(kind='barh')\n",
    "plt.show()"
   ]
  },
  {
   "cell_type": "markdown",
   "metadata": {},
   "source": [
    "Certaines colonnes contiennent plus de **80%** de **NA** ce qui est beaucoup **trop important** pour appliquer une méthode de **fillna**. "
   ]
  },
  {
   "cell_type": "markdown",
   "metadata": {},
   "source": [
    "### • CRD et nb"
   ]
  },
  {
   "cell_type": "code",
   "execution_count": 9,
   "metadata": {},
   "outputs": [
    {
     "data": {
      "text/plain": [
       "crd_decouvert    0.0\n",
       "nb_decouvert     0.0\n",
       "dtype: float64"
      ]
     },
     "execution_count": 9,
     "metadata": {},
     "output_type": "execute_result"
    }
   ],
   "source": [
    "train[train.crd_decouvert.isna()][['crd_decouvert','nb_decouvert']].sum()"
   ]
  },
  {
   "cell_type": "markdown",
   "metadata": {},
   "source": [
    "La colonne **crd_decouvert** contient des **NA** lorsque la colonne **nb_couvert**. Ce n'est donc pas un vrai manque de valeur. Nous pouvons remplacer ces **NA** par **0**.\n",
    "\n",
    "Vérifions cette hypothèse pour les colonnes **CRD - nb**."
   ]
  },
  {
   "cell_type": "code",
   "execution_count": 10,
   "metadata": {},
   "outputs": [
    {
     "name": "stdout",
     "output_type": "stream",
     "text": [
      "\n",
      "\n",
      "{'crd_amort': 0.0, 'nb_amort': 0.0}\n",
      "\n",
      "\n",
      "{'crd_renouv': 0.0, 'nb_renouv': 0.0}\n",
      "\n",
      "\n",
      "{'crd_immo': 0.0, 'nb_immo': 0.0}\n",
      "\n",
      "\n",
      "{'crd_rac': 0.0, 'nb_rac': 0.0}\n",
      "\n",
      "\n",
      "{'crd_autres': 0.0, 'nb_autres': 0.0}\n",
      "\n",
      "\n",
      "{'crd_decouvert': 0.0, 'nb_decouvert': 0.0}\n"
     ]
    }
   ],
   "source": [
    "for CRD in train.columns.tolist():\n",
    "    if 'crd_' in CRD:\n",
    "        _type = CRD.split('_')[1]\n",
    "        print('\\n')\n",
    "        print(dict(train[train[CRD].isna()][[CRD,f'nb_{_type}']].sum()))"
   ]
  },
  {
   "cell_type": "code",
   "execution_count": 11,
   "metadata": {},
   "outputs": [
    {
     "data": {
      "text/html": [
       "<div>\n",
       "<style scoped>\n",
       "    .dataframe tbody tr th:only-of-type {\n",
       "        vertical-align: middle;\n",
       "    }\n",
       "\n",
       "    .dataframe tbody tr th {\n",
       "        vertical-align: top;\n",
       "    }\n",
       "\n",
       "    .dataframe thead th {\n",
       "        text-align: right;\n",
       "    }\n",
       "</style>\n",
       "<table border=\"1\" class=\"dataframe\">\n",
       "  <thead>\n",
       "    <tr style=\"text-align: right;\">\n",
       "      <th></th>\n",
       "      <th>id</th>\n",
       "      <th>STRUCTURE PRESCRIPTRICE</th>\n",
       "      <th>PLATEFORME</th>\n",
       "      <th>region</th>\n",
       "      <th>ORIENTATION</th>\n",
       "      <th>NATURE_DIFF</th>\n",
       "      <th>age</th>\n",
       "      <th>tranche_age</th>\n",
       "      <th>situation</th>\n",
       "      <th>adulte_foyer</th>\n",
       "      <th>...</th>\n",
       "      <th>crd_immo</th>\n",
       "      <th>nb_rac</th>\n",
       "      <th>crd_rac</th>\n",
       "      <th>nb_autres</th>\n",
       "      <th>crd_autres</th>\n",
       "      <th>nb_decouvert</th>\n",
       "      <th>crd_decouvert</th>\n",
       "      <th>moy_eco_jour</th>\n",
       "      <th>cat_moy_eco_jour</th>\n",
       "      <th>Date</th>\n",
       "    </tr>\n",
       "  </thead>\n",
       "  <tbody>\n",
       "    <tr>\n",
       "      <th>0</th>\n",
       "      <td>1550</td>\n",
       "      <td>PRESCRIPTEUR35</td>\n",
       "      <td>bancaire</td>\n",
       "      <td>BOURGOGNE FRANCHE COMTE</td>\n",
       "      <td>Surendettement</td>\n",
       "      <td>Surendettement</td>\n",
       "      <td>NaN</td>\n",
       "      <td>NaN</td>\n",
       "      <td>celibataire</td>\n",
       "      <td>1.0</td>\n",
       "      <td>...</td>\n",
       "      <td>0.0</td>\n",
       "      <td>0</td>\n",
       "      <td>0.0</td>\n",
       "      <td>0</td>\n",
       "      <td>0.0</td>\n",
       "      <td>0</td>\n",
       "      <td>0.0</td>\n",
       "      <td>2.53333</td>\n",
       "      <td>0a2,99€</td>\n",
       "      <td>2015-07-01</td>\n",
       "    </tr>\n",
       "    <tr>\n",
       "      <th>1</th>\n",
       "      <td>2249</td>\n",
       "      <td>PRESCRIPTEUR16</td>\n",
       "      <td>bancaire</td>\n",
       "      <td>OCCITANIE</td>\n",
       "      <td>Mediation</td>\n",
       "      <td>Endettement</td>\n",
       "      <td>NaN</td>\n",
       "      <td>NaN</td>\n",
       "      <td>marie</td>\n",
       "      <td>2.0</td>\n",
       "      <td>...</td>\n",
       "      <td>0.0</td>\n",
       "      <td>0</td>\n",
       "      <td>0.0</td>\n",
       "      <td>0</td>\n",
       "      <td>0.0</td>\n",
       "      <td>0</td>\n",
       "      <td>0.0</td>\n",
       "      <td>-3.31667</td>\n",
       "      <td>Négatif</td>\n",
       "      <td>2016-02-01</td>\n",
       "    </tr>\n",
       "    <tr>\n",
       "      <th>2</th>\n",
       "      <td>2670</td>\n",
       "      <td>PRESCRIPTEUR18</td>\n",
       "      <td>social</td>\n",
       "      <td>PROVENCE-ALPES-COTE-D'AZUR</td>\n",
       "      <td>Accompagnement</td>\n",
       "      <td>Endettement</td>\n",
       "      <td>NaN</td>\n",
       "      <td>NaN</td>\n",
       "      <td>celibataire</td>\n",
       "      <td>1.0</td>\n",
       "      <td>...</td>\n",
       "      <td>0.0</td>\n",
       "      <td>0</td>\n",
       "      <td>0.0</td>\n",
       "      <td>1</td>\n",
       "      <td>3996.0</td>\n",
       "      <td>0</td>\n",
       "      <td>0.0</td>\n",
       "      <td>-24.76670</td>\n",
       "      <td>Négatif</td>\n",
       "      <td>2016-04-01</td>\n",
       "    </tr>\n",
       "    <tr>\n",
       "      <th>3</th>\n",
       "      <td>1102</td>\n",
       "      <td>PRESCRIPTEUR6</td>\n",
       "      <td>bancaire</td>\n",
       "      <td>BRETAGNE</td>\n",
       "      <td>Mediation</td>\n",
       "      <td>Multiendettement</td>\n",
       "      <td>NaN</td>\n",
       "      <td>NaN</td>\n",
       "      <td>divorce</td>\n",
       "      <td>1.0</td>\n",
       "      <td>...</td>\n",
       "      <td>0.0</td>\n",
       "      <td>0</td>\n",
       "      <td>0.0</td>\n",
       "      <td>0</td>\n",
       "      <td>0.0</td>\n",
       "      <td>0</td>\n",
       "      <td>0.0</td>\n",
       "      <td>29.56670</td>\n",
       "      <td>15€et+</td>\n",
       "      <td>2014-11-01</td>\n",
       "    </tr>\n",
       "    <tr>\n",
       "      <th>4</th>\n",
       "      <td>7069</td>\n",
       "      <td>PRESCRIPTEUR23</td>\n",
       "      <td>social</td>\n",
       "      <td>NOUVELLE AQUITAINE</td>\n",
       "      <td>Accompagnement</td>\n",
       "      <td>Difficultés de Gestion</td>\n",
       "      <td>24.0</td>\n",
       "      <td>&lt;25ans</td>\n",
       "      <td>concubinage</td>\n",
       "      <td>2.0</td>\n",
       "      <td>...</td>\n",
       "      <td>0.0</td>\n",
       "      <td>0</td>\n",
       "      <td>0.0</td>\n",
       "      <td>0</td>\n",
       "      <td>0.0</td>\n",
       "      <td>0</td>\n",
       "      <td>0.0</td>\n",
       "      <td>-19.15000</td>\n",
       "      <td>Négatif</td>\n",
       "      <td>2018-09-01</td>\n",
       "    </tr>\n",
       "  </tbody>\n",
       "</table>\n",
       "<p>5 rows × 43 columns</p>\n",
       "</div>"
      ],
      "text/plain": [
       "     id STRUCTURE PRESCRIPTRICE PLATEFORME                      region  \\\n",
       "0  1550          PRESCRIPTEUR35   bancaire     BOURGOGNE FRANCHE COMTE   \n",
       "1  2249          PRESCRIPTEUR16   bancaire                   OCCITANIE   \n",
       "2  2670          PRESCRIPTEUR18     social  PROVENCE-ALPES-COTE-D'AZUR   \n",
       "3  1102           PRESCRIPTEUR6   bancaire                    BRETAGNE   \n",
       "4  7069          PRESCRIPTEUR23     social          NOUVELLE AQUITAINE   \n",
       "\n",
       "      ORIENTATION             NATURE_DIFF   age tranche_age    situation  \\\n",
       "0  Surendettement          Surendettement   NaN         NaN  celibataire   \n",
       "1       Mediation             Endettement   NaN         NaN        marie   \n",
       "2  Accompagnement             Endettement   NaN         NaN  celibataire   \n",
       "3       Mediation        Multiendettement   NaN         NaN      divorce   \n",
       "4  Accompagnement  Difficultés de Gestion  24.0      <25ans  concubinage   \n",
       "\n",
       "   adulte_foyer    ...      crd_immo nb_rac crd_rac  nb_autres crd_autres  \\\n",
       "0           1.0    ...           0.0      0     0.0          0        0.0   \n",
       "1           2.0    ...           0.0      0     0.0          0        0.0   \n",
       "2           1.0    ...           0.0      0     0.0          1     3996.0   \n",
       "3           1.0    ...           0.0      0     0.0          0        0.0   \n",
       "4           2.0    ...           0.0      0     0.0          0        0.0   \n",
       "\n",
       "   nb_decouvert crd_decouvert  moy_eco_jour cat_moy_eco_jour       Date  \n",
       "0             0           0.0       2.53333          0a2,99€ 2015-07-01  \n",
       "1             0           0.0      -3.31667          Négatif 2016-02-01  \n",
       "2             0           0.0     -24.76670          Négatif 2016-04-01  \n",
       "3             0           0.0      29.56670           15€et+ 2014-11-01  \n",
       "4             0           0.0     -19.15000          Négatif 2018-09-01  \n",
       "\n",
       "[5 rows x 43 columns]"
      ]
     },
     "execution_count": 11,
     "metadata": {},
     "output_type": "execute_result"
    }
   ],
   "source": [
    "for CRD in train.columns.tolist():\n",
    "    if 'crd_' in CRD:\n",
    "        train[CRD] = train[CRD].fillna(0)\n",
    "train.head()"
   ]
  },
  {
   "cell_type": "markdown",
   "metadata": {},
   "source": [
    "### • Age"
   ]
  },
  {
   "cell_type": "code",
   "execution_count": 12,
   "metadata": {},
   "outputs": [],
   "source": [
    "#train.tranche_age = train.tranche_age.replace('Non Renseigne', np.NAN)"
   ]
  },
  {
   "cell_type": "code",
   "execution_count": 13,
   "metadata": {},
   "outputs": [
    {
     "data": {
      "text/plain": [
       "<matplotlib.axes._subplots.AxesSubplot at 0x1a217389e8>"
      ]
     },
     "execution_count": 13,
     "metadata": {},
     "output_type": "execute_result"
    },
    {
     "data": {
      "image/png": "[encoded data removed]",
      "text/plain": [
       "<Figure size 432x288 with 1 Axes>"
      ]
     },
     "metadata": {},
     "output_type": "display_data"
    }
   ],
   "source": [
    "train.tranche_age.value_counts(ascending=True,dropna=False,normalize=True).plot(kind='pie',)"
   ]
  },
  {
   "cell_type": "code",
   "execution_count": 14,
   "metadata": {
    "scrolled": false
   },
   "outputs": [
    {
     "data": {
      "text/plain": [
       "[<matplotlib.lines.Line2D at 0x1a21776d30>]"
      ]
     },
     "execution_count": 14,
     "metadata": {},
     "output_type": "execute_result"
    },
    {
     "data": {
      "image/png": "[encoded data removed]",
      "text/plain": [
       "<Figure size 1224x720 with 1 Axes>"
      ]
     },
     "metadata": {
      "needs_background": "light"
     },
     "output_type": "display_data"
    }
   ],
   "source": [
    "ar = pd.DataFrame({'age':train.age.value_counts().index,'nb':train.age.value_counts().values}).sort_values('age')\n",
    "fig = plt.figure(figsize=(17, 10))\n",
    "plt.plot(ar.age,ar.nb)"
   ]
  },
  {
   "cell_type": "code",
   "execution_count": 15,
   "metadata": {},
   "outputs": [
    {
     "data": {
      "text/plain": [
       "0.405"
      ]
     },
     "execution_count": 15,
     "metadata": {},
     "output_type": "execute_result"
    }
   ],
   "source": [
    "round(train.age.isna().sum()/train.age.shape[0],ndigits=3)"
   ]
  },
  {
   "cell_type": "markdown",
   "metadata": {},
   "source": [
    "La répartition de l'**âge** est intéressante, on semble distinguer une **hyperbole centrée en 52**. Cependant il y a tout de même trop de **NA** (**40%**) pour les remplacer par la **mediane** de la colonne **âge**. On  pourrait cependant utiliser la **median/moyenne** d'âge en groupant par **region, profession ou personne à charge**."
   ]
  },
  {
   "cell_type": "code",
   "execution_count": 16,
   "metadata": {},
   "outputs": [
    {
     "data": {
      "text/plain": [
       "52.0992963252541"
      ]
     },
     "execution_count": 16,
     "metadata": {},
     "output_type": "execute_result"
    }
   ],
   "source": [
    "train.age.mean()"
   ]
  },
  {
   "cell_type": "code",
   "execution_count": 17,
   "metadata": {
    "scrolled": true
   },
   "outputs": [
    {
     "data": {
      "text/plain": [
       "52.28862077123255"
      ]
     },
     "execution_count": 17,
     "metadata": {},
     "output_type": "execute_result"
    }
   ],
   "source": [
    "for p in train.PROF.unique():\n",
    "    med = train.loc[train.PROF == p].age.median()\n",
    "    train.loc[train.PROF == p, 'age'] = train.loc[train.PROF == p, 'age'].fillna(med)\n",
    "train.age.mean()"
   ]
  },
  {
   "cell_type": "code",
   "execution_count": 18,
   "metadata": {},
   "outputs": [
    {
     "data": {
      "text/plain": [
       "[nan,\n",
       " '<25ans',\n",
       " '35-34ans',\n",
       " '55-64ans',\n",
       " '75ans_et+',\n",
       " '45-54ans',\n",
       " '40-44ans',\n",
       " '65-75ans']"
      ]
     },
     "execution_count": 18,
     "metadata": {},
     "output_type": "execute_result"
    }
   ],
   "source": [
    "train.tranche_age.unique().tolist()"
   ]
  },
  {
   "cell_type": "code",
   "execution_count": 19,
   "metadata": {},
   "outputs": [],
   "source": [
    "def trancheAge(x):\n",
    "    age = x.age\n",
    "    if age < 25:\n",
    "        return '<25ans'\n",
    "\n",
    "    elif age >= 25 and age <= 34:\n",
    "        return  '25-34ans'\n",
    "\n",
    "    elif age >= 35 and age <= 44:\n",
    "        return  '35-44ans'\n",
    "\n",
    "    elif age >= 45 and age <= 54:\n",
    "        return  '45-54ans'\n",
    "\n",
    "    elif age >= 55 and age <= 64:\n",
    "        return  '55-64ans'\n",
    "\n",
    "    elif age >= 65 and age <= 74:\n",
    "        return  '65-74ans'\n",
    "\n",
    "    elif age >= 75:\n",
    "        return '>75ans'"
   ]
  },
  {
   "cell_type": "code",
   "execution_count": 20,
   "metadata": {},
   "outputs": [],
   "source": [
    "train.tranche_age = train.apply(lambda x: trancheAge(x), axis=1)"
   ]
  },
  {
   "cell_type": "markdown",
   "metadata": {},
   "source": [
    "### • IMPAYES DEBUT"
   ]
  },
  {
   "cell_type": "code",
   "execution_count": 21,
   "metadata": {},
   "outputs": [
    {
     "name": "stdout",
     "output_type": "stream",
     "text": [
      "MAX: 10889.0\n",
      "MIN: 35.0\n",
      "Median: 1107.5\n",
      "Moyenne: 1199\n",
      "NA: 0.85\n"
     ]
    }
   ],
   "source": [
    "print(f'MAX: {pd.to_numeric(train.IMPAYES_DEBUT, errors=\"coerce\").max()}')\n",
    "print(f'MIN: {pd.to_numeric(train.IMPAYES_DEBUT, errors=\"coerce\").min()}')\n",
    "print(f'Median: {pd.to_numeric(train.IMPAYES_DEBUT, errors=\"coerce\").median()}')\n",
    "print(f'Moyenne: {round(pd.to_numeric(train.IMPAYES_DEBUT, errors=\"coerce\").mean())}')\n",
    "print(f'NA: {round(train.IMPAYES_DEBUT.isna().sum()/train.shape[0],ndigits=2)}')"
   ]
  },
  {
   "cell_type": "markdown",
   "metadata": {},
   "source": [
    "Cette colonne contient beaucoup beaucoup **trop de NA**. Je ne vois pas, **pour l'instant**, de méthode pour la combler.\n",
    "\n",
    "Nous la supprimons **pour l'instant**."
   ]
  },
  {
   "cell_type": "code",
   "execution_count": 22,
   "metadata": {},
   "outputs": [],
   "source": [
    "train = train.drop(columns=['IMPAYES_DEBUT'])"
   ]
  },
  {
   "cell_type": "markdown",
   "metadata": {},
   "source": [
    "### • GAIN MEDIATION"
   ]
  },
  {
   "cell_type": "code",
   "execution_count": 23,
   "metadata": {},
   "outputs": [
    {
     "name": "stdout",
     "output_type": "stream",
     "text": [
      "MAX: 4359.0\n",
      "MIN: -16.0\n",
      "Median: 514.0\n",
      "Moyenne: 686\n",
      "NA: 0.97\n"
     ]
    }
   ],
   "source": [
    "print(f'MAX: {pd.to_numeric(train.gain_mediation, errors=\"coerce\").max()}')\n",
    "print(f'MIN: {pd.to_numeric(train.gain_mediation, errors=\"coerce\").min()}')\n",
    "print(f'Median: {pd.to_numeric(train.gain_mediation, errors=\"coerce\").median()}')\n",
    "print(f'Moyenne: {round(pd.to_numeric(train.gain_mediation, errors=\"coerce\").mean())}')\n",
    "print(f'NA: {round(train.gain_mediation.isna().sum()/train.shape[0],ndigits=2)}')"
   ]
  },
  {
   "cell_type": "code",
   "execution_count": 24,
   "metadata": {},
   "outputs": [
    {
     "data": {
      "text/plain": [
       "array([nan, '32', '456', '309', '508', '613', '562', '-16', '1320', '554',\n",
       "       '514', '1243', '1382', '181', '4359', '885', '555', '236', '1321',\n",
       "       '321', '252', '267', '552', '238', '733', '434', '952', '126',\n",
       "       '1375', '956', '0', '394', '139', '297', '116', '338', '275',\n",
       "       '1211', '292', '595', '1567', '543', '1168', '1169', '1924', '495',\n",
       "       '114', '384', '2154', '1634', '1391', '843', '156', '213', '1727',\n",
       "       '720', '545', '1307', '90', '2328', '825', '975', '902', '1064',\n",
       "       '306', '459', '1051', '232', '754', '326', '433', '25', '656',\n",
       "       '122', '308', '391', '1405', '198', '903', '425', '986', '999',\n",
       "       '168', '476', '591', '322', '779', '1424', '891', '60', '553',\n",
       "       '1359', '173', '343', '302', '1012', '96', '673', '1908', '725',\n",
       "       '405', '94', '151', '671', '341', '453', '274', '24', '770', '167',\n",
       "       '2419', '1723', '333', '526', '688', '74', '485', '544', '475'],\n",
       "      dtype=object)"
      ]
     },
     "execution_count": 24,
     "metadata": {},
     "output_type": "execute_result"
    }
   ],
   "source": [
    "train.gain_mediation.unique()"
   ]
  },
  {
   "cell_type": "code",
   "execution_count": 25,
   "metadata": {},
   "outputs": [],
   "source": [
    "train.gain_mediation = train.gain_mediation.fillna(0).astype(int)"
   ]
  },
  {
   "cell_type": "markdown",
   "metadata": {},
   "source": [
    "### • cat_impayes"
   ]
  },
  {
   "cell_type": "code",
   "execution_count": 26,
   "metadata": {},
   "outputs": [
    {
     "data": {
      "text/plain": [
       "NaN              3635\n",
       "1000€-1500€       246\n",
       "500€-1000€        236\n",
       "1501€-2000€       108\n",
       "1€-499€            36\n",
       "2001€-3000€        31\n",
       "3001€-4000€         4\n",
       "6000€ et plus       2\n",
       "5001€-6000€         1\n",
       "Name: cat_impayes, dtype: int64"
      ]
     },
     "execution_count": 26,
     "metadata": {},
     "output_type": "execute_result"
    }
   ],
   "source": [
    "train.cat_impayes.value_counts(dropna=False)"
   ]
  },
  {
   "cell_type": "markdown",
   "metadata": {},
   "source": [
    "Le nombre de **NA** pour cette colonne est **trop important** pour les supprimer. Cette colonnes étant catégorielle, **pouvons les conserver**."
   ]
  },
  {
   "cell_type": "code",
   "execution_count": 27,
   "metadata": {},
   "outputs": [],
   "source": [
    "train.cat_impayes = train.cat_impayes.fillna('Inconnu')"
   ]
  },
  {
   "cell_type": "markdown",
   "metadata": {},
   "source": [
    "### -> Résultat du nettoyage des NA"
   ]
  },
  {
   "cell_type": "code",
   "execution_count": 28,
   "metadata": {
    "scrolled": false
   },
   "outputs": [
    {
     "data": {
      "image/png": "[encoded data removed]",
      "text/plain": [
       "<Figure size 1008x432 with 1 Axes>"
      ]
     },
     "metadata": {
      "needs_background": "light"
     },
     "output_type": "display_data"
    }
   ],
   "source": [
    "train_na = train.isna().sum()/train.shape[0]\n",
    "\n",
    "fig, ax = plt.subplots()\n",
    "fig.set_size_inches(14,6)\n",
    "ax.set_xlim([0,1])\n",
    "train_na.sort_values(ascending=False)[:20].plot(kind='barh')\n",
    "plt.show()"
   ]
  },
  {
   "cell_type": "code",
   "execution_count": 29,
   "metadata": {},
   "outputs": [
    {
     "data": {
      "text/plain": [
       "0.86"
      ]
     },
     "execution_count": 29,
     "metadata": {},
     "output_type": "execute_result"
    }
   ],
   "source": [
    "round(train.dropna().shape[0]/n,ndigits=2)"
   ]
  },
  {
   "cell_type": "markdown",
   "metadata": {},
   "source": [
    "Nous pouvons **supprimer** les **NA restants**, soit **14%**."
   ]
  },
  {
   "cell_type": "code",
   "execution_count": 30,
   "metadata": {},
   "outputs": [],
   "source": [
    "train = train.dropna()"
   ]
  },
  {
   "cell_type": "markdown",
   "metadata": {},
   "source": [
    "# III - Traitement des données catégorielles"
   ]
  },
  {
   "cell_type": "code",
   "execution_count": 31,
   "metadata": {
    "scrolled": false
   },
   "outputs": [
    {
     "data": {
      "text/html": [
       "<div>\n",
       "<style scoped>\n",
       "    .dataframe tbody tr th:only-of-type {\n",
       "        vertical-align: middle;\n",
       "    }\n",
       "\n",
       "    .dataframe tbody tr th {\n",
       "        vertical-align: top;\n",
       "    }\n",
       "\n",
       "    .dataframe thead th {\n",
       "        text-align: right;\n",
       "    }\n",
       "</style>\n",
       "<table border=\"1\" class=\"dataframe\">\n",
       "  <thead>\n",
       "    <tr style=\"text-align: right;\">\n",
       "      <th></th>\n",
       "      <th>STRUCTURE PRESCRIPTRICE</th>\n",
       "      <th>PLATEFORME</th>\n",
       "      <th>region</th>\n",
       "      <th>ORIENTATION</th>\n",
       "      <th>NATURE_DIFF</th>\n",
       "      <th>tranche_age</th>\n",
       "      <th>situation</th>\n",
       "      <th>PROF</th>\n",
       "      <th>LOGEMENT</th>\n",
       "      <th>cat_rev</th>\n",
       "      <th>cat_charges</th>\n",
       "      <th>cat_credit</th>\n",
       "      <th>cat_impayes</th>\n",
       "      <th>cat_RAV_ouverture</th>\n",
       "      <th>cat_RAV_UC</th>\n",
       "      <th>cat_moy_eco_jour</th>\n",
       "    </tr>\n",
       "  </thead>\n",
       "  <tbody>\n",
       "    <tr>\n",
       "      <th>0</th>\n",
       "      <td>PRESCRIPTEUR35</td>\n",
       "      <td>bancaire</td>\n",
       "      <td>BOURGOGNE FRANCHE COMTE</td>\n",
       "      <td>Surendettement</td>\n",
       "      <td>Surendettement</td>\n",
       "      <td>65-74ans</td>\n",
       "      <td>celibataire</td>\n",
       "      <td>retraité</td>\n",
       "      <td>proprietaire</td>\n",
       "      <td>&lt;1150€</td>\n",
       "      <td>500€-1000€</td>\n",
       "      <td>1€-499€</td>\n",
       "      <td>Inconnu</td>\n",
       "      <td>C</td>\n",
       "      <td>C</td>\n",
       "      <td>0a2,99€</td>\n",
       "    </tr>\n",
       "    <tr>\n",
       "      <th>1</th>\n",
       "      <td>PRESCRIPTEUR16</td>\n",
       "      <td>bancaire</td>\n",
       "      <td>OCCITANIE</td>\n",
       "      <td>Mediation</td>\n",
       "      <td>Endettement</td>\n",
       "      <td>65-74ans</td>\n",
       "      <td>marie</td>\n",
       "      <td>retraité</td>\n",
       "      <td>gratuit</td>\n",
       "      <td>2001€-2500€</td>\n",
       "      <td>500€-1000€</td>\n",
       "      <td>1501€-2000€</td>\n",
       "      <td>Inconnu</td>\n",
       "      <td>C</td>\n",
       "      <td>C</td>\n",
       "      <td>Négatif</td>\n",
       "    </tr>\n",
       "    <tr>\n",
       "      <th>2</th>\n",
       "      <td>PRESCRIPTEUR18</td>\n",
       "      <td>social</td>\n",
       "      <td>PROVENCE-ALPES-COTE-D'AZUR</td>\n",
       "      <td>Accompagnement</td>\n",
       "      <td>Endettement</td>\n",
       "      <td>45-54ans</td>\n",
       "      <td>celibataire</td>\n",
       "      <td>employé</td>\n",
       "      <td>locataire</td>\n",
       "      <td>1150€-1500€</td>\n",
       "      <td>500€-1000€</td>\n",
       "      <td>1€-499€</td>\n",
       "      <td>500€-1000€</td>\n",
       "      <td>B</td>\n",
       "      <td>B</td>\n",
       "      <td>Négatif</td>\n",
       "    </tr>\n",
       "    <tr>\n",
       "      <th>3</th>\n",
       "      <td>PRESCRIPTEUR6</td>\n",
       "      <td>bancaire</td>\n",
       "      <td>BRETAGNE</td>\n",
       "      <td>Mediation</td>\n",
       "      <td>Multiendettement</td>\n",
       "      <td>65-74ans</td>\n",
       "      <td>divorce</td>\n",
       "      <td>retraité</td>\n",
       "      <td>proprietaire</td>\n",
       "      <td>2001€-2500€</td>\n",
       "      <td>500€-1000€</td>\n",
       "      <td>500€-1000€</td>\n",
       "      <td>Inconnu</td>\n",
       "      <td>A</td>\n",
       "      <td>A</td>\n",
       "      <td>15€et+</td>\n",
       "    </tr>\n",
       "    <tr>\n",
       "      <th>4</th>\n",
       "      <td>PRESCRIPTEUR23</td>\n",
       "      <td>social</td>\n",
       "      <td>NOUVELLE AQUITAINE</td>\n",
       "      <td>Accompagnement</td>\n",
       "      <td>Difficultés de Gestion</td>\n",
       "      <td>&lt;25ans</td>\n",
       "      <td>concubinage</td>\n",
       "      <td>employé</td>\n",
       "      <td>locataire</td>\n",
       "      <td>2001€-2500€</td>\n",
       "      <td>1001€-1500€</td>\n",
       "      <td>1€-499€</td>\n",
       "      <td>1000€-1500€</td>\n",
       "      <td>B</td>\n",
       "      <td>B</td>\n",
       "      <td>Négatif</td>\n",
       "    </tr>\n",
       "  </tbody>\n",
       "</table>\n",
       "</div>"
      ],
      "text/plain": [
       "  STRUCTURE PRESCRIPTRICE PLATEFORME                      region  \\\n",
       "0          PRESCRIPTEUR35   bancaire     BOURGOGNE FRANCHE COMTE   \n",
       "1          PRESCRIPTEUR16   bancaire                   OCCITANIE   \n",
       "2          PRESCRIPTEUR18     social  PROVENCE-ALPES-COTE-D'AZUR   \n",
       "3           PRESCRIPTEUR6   bancaire                    BRETAGNE   \n",
       "4          PRESCRIPTEUR23     social          NOUVELLE AQUITAINE   \n",
       "\n",
       "      ORIENTATION             NATURE_DIFF tranche_age    situation      PROF  \\\n",
       "0  Surendettement          Surendettement    65-74ans  celibataire  retraité   \n",
       "1       Mediation             Endettement    65-74ans        marie  retraité   \n",
       "2  Accompagnement             Endettement    45-54ans  celibataire   employé   \n",
       "3       Mediation        Multiendettement    65-74ans      divorce  retraité   \n",
       "4  Accompagnement  Difficultés de Gestion      <25ans  concubinage   employé   \n",
       "\n",
       "       LOGEMENT      cat_rev  cat_charges   cat_credit  cat_impayes  \\\n",
       "0  proprietaire       <1150€   500€-1000€      1€-499€      Inconnu   \n",
       "1       gratuit  2001€-2500€   500€-1000€  1501€-2000€      Inconnu   \n",
       "2     locataire  1150€-1500€   500€-1000€      1€-499€   500€-1000€   \n",
       "3  proprietaire  2001€-2500€   500€-1000€   500€-1000€      Inconnu   \n",
       "4     locataire  2001€-2500€  1001€-1500€      1€-499€  1000€-1500€   \n",
       "\n",
       "  cat_RAV_ouverture cat_RAV_UC cat_moy_eco_jour  \n",
       "0                 C          C          0a2,99€  \n",
       "1                 C          C          Négatif  \n",
       "2                 B          B          Négatif  \n",
       "3                 A          A           15€et+  \n",
       "4                 B          B          Négatif  "
      ]
     },
     "execution_count": 31,
     "metadata": {},
     "output_type": "execute_result"
    }
   ],
   "source": [
    "cols_categorielles = list(train.dtypes[train.dtypes == 'object'].to_dict().keys())\n",
    "train[cols_categorielles].head()"
   ]
  },
  {
   "cell_type": "code",
   "execution_count": 32,
   "metadata": {},
   "outputs": [],
   "source": [
    "for cc in cols_categorielles:\n",
    "    cat_dtype = pd.api.types.CategoricalDtype(categories=train[cc].unique().tolist(), ordered=False)\n",
    "    train[cc] = train[cc].astype(cat_dtype)"
   ]
  },
  {
   "cell_type": "code",
   "execution_count": 33,
   "metadata": {},
   "outputs": [
    {
     "data": {
      "text/plain": [
       "id                            int64\n",
       "STRUCTURE PRESCRIPTRICE    category\n",
       "PLATEFORME                 category\n",
       "region                     category\n",
       "ORIENTATION                category\n",
       "dtype: object"
      ]
     },
     "execution_count": 33,
     "metadata": {},
     "output_type": "execute_result"
    }
   ],
   "source": [
    "train.dtypes.head()"
   ]
  },
  {
   "cell_type": "code",
   "execution_count": 34,
   "metadata": {
    "scrolled": false
   },
   "outputs": [
    {
     "name": "stdout",
     "output_type": "stream",
     "text": [
      "(25, 25)\n"
     ]
    },
    {
     "data": {
      "text/plain": [
       "<matplotlib.axes._subplots.AxesSubplot at 0x1a21ee2ba8>"
      ]
     },
     "execution_count": 34,
     "metadata": {},
     "output_type": "execute_result"
    },
    {
     "data": {
      "image/png": "[encoded data removed]",
      "text/plain": [
       "<Figure size 720x720 with 2 Axes>"
      ]
     },
     "metadata": {
      "needs_background": "light"
     },
     "output_type": "display_data"
    }
   ],
   "source": [
    "corr = train.corr()\n",
    "print(corr.shape)\n",
    "fig, ax = plt.subplots(figsize=(10,10))         \n",
    "sns.heatmap(corr, xticklabels=corr.columns.values, yticklabels=corr.columns.values, linewidths=.05, ax=ax)"
   ]
  },
  {
   "cell_type": "code",
   "execution_count": 35,
   "metadata": {},
   "outputs": [
    {
     "data": {
      "text/plain": [
       "(3677, 42)"
      ]
     },
     "execution_count": 35,
     "metadata": {},
     "output_type": "execute_result"
    }
   ],
   "source": [
    "train.shape"
   ]
  }
 ],
 "metadata": {
  "kernelspec": {
   "display_name": "Python 3",
   "language": "python",
   "name": "python3"
  },
  "language_info": {
   "codemirror_mode": {
    "name": "ipython",
    "version": 3
   },
   "file_extension": ".py",
   "mimetype": "text/x-python",
   "name": "python",
   "nbconvert_exporter": "python",
   "pygments_lexer": "ipython3",
   "version": "3.7.1"
  }
 },
 "nbformat": 4,
 "nbformat_minor": 2
}
