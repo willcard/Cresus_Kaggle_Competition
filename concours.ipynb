{
 "cells": [
  {
   "cell_type": "code",
   "execution_count": 1,
   "metadata": {},
   "outputs": [],
   "source": [
    "import pandas as pd\n",
    "import numpy as np\n",
    "\n",
    "import matplotlib\n",
    "import matplotlib.pyplot as plt\n",
    "%matplotlib inline"
   ]
  },
  {
   "cell_type": "code",
   "execution_count": 2,
   "metadata": {},
   "outputs": [
    {
     "data": {
      "text/html": [
       "<div>\n",
       "<style scoped>\n",
       "    .dataframe tbody tr th:only-of-type {\n",
       "        vertical-align: middle;\n",
       "    }\n",
       "\n",
       "    .dataframe tbody tr th {\n",
       "        vertical-align: top;\n",
       "    }\n",
       "\n",
       "    .dataframe thead th {\n",
       "        text-align: right;\n",
       "    }\n",
       "</style>\n",
       "<table border=\"1\" class=\"dataframe\">\n",
       "  <thead>\n",
       "    <tr style=\"text-align: right;\">\n",
       "      <th></th>\n",
       "      <th>id</th>\n",
       "      <th>STRUCTURE PRESCRIPTRICE</th>\n",
       "      <th>PLATEFORME</th>\n",
       "      <th>year</th>\n",
       "      <th>month</th>\n",
       "      <th>region</th>\n",
       "      <th>ORIENTATION</th>\n",
       "      <th>NATURE_DIFF</th>\n",
       "      <th>age</th>\n",
       "      <th>tranche_age</th>\n",
       "      <th>...</th>\n",
       "      <th>nb_immo</th>\n",
       "      <th>crd_immo</th>\n",
       "      <th>nb_rac</th>\n",
       "      <th>crd_rac</th>\n",
       "      <th>nb_autres</th>\n",
       "      <th>crd_autres</th>\n",
       "      <th>nb_decouvert</th>\n",
       "      <th>crd_decouvert</th>\n",
       "      <th>moy_eco_jour</th>\n",
       "      <th>cat_moy_eco_jour</th>\n",
       "    </tr>\n",
       "  </thead>\n",
       "  <tbody>\n",
       "    <tr>\n",
       "      <th>0</th>\n",
       "      <td>1550</td>\n",
       "      <td>PRESCRIPTEUR35</td>\n",
       "      <td>bancaire</td>\n",
       "      <td>2015</td>\n",
       "      <td>7</td>\n",
       "      <td>BOURGOGNE FRANCHE COMTE</td>\n",
       "      <td>Surendettement</td>\n",
       "      <td>Surendettement</td>\n",
       "      <td>\\N</td>\n",
       "      <td>Non Renseigne</td>\n",
       "      <td>...</td>\n",
       "      <td>0</td>\n",
       "      <td>\\N</td>\n",
       "      <td>0</td>\n",
       "      <td>\\N</td>\n",
       "      <td>0</td>\n",
       "      <td>\\N</td>\n",
       "      <td>0</td>\n",
       "      <td>\\N</td>\n",
       "      <td>2,53333</td>\n",
       "      <td>0a2,99€</td>\n",
       "    </tr>\n",
       "    <tr>\n",
       "      <th>1</th>\n",
       "      <td>2249</td>\n",
       "      <td>PRESCRIPTEUR16</td>\n",
       "      <td>bancaire</td>\n",
       "      <td>2016</td>\n",
       "      <td>2</td>\n",
       "      <td>OCCITANIE</td>\n",
       "      <td>Mediation</td>\n",
       "      <td>Endettement</td>\n",
       "      <td>\\N</td>\n",
       "      <td>Non Renseigne</td>\n",
       "      <td>...</td>\n",
       "      <td>0</td>\n",
       "      <td>\\N</td>\n",
       "      <td>0</td>\n",
       "      <td>\\N</td>\n",
       "      <td>0</td>\n",
       "      <td>\\N</td>\n",
       "      <td>0</td>\n",
       "      <td>\\N</td>\n",
       "      <td>-3,31667</td>\n",
       "      <td>Négatif</td>\n",
       "    </tr>\n",
       "    <tr>\n",
       "      <th>2</th>\n",
       "      <td>2670</td>\n",
       "      <td>PRESCRIPTEUR18</td>\n",
       "      <td>social</td>\n",
       "      <td>2016</td>\n",
       "      <td>4</td>\n",
       "      <td>PROVENCE-ALPES-COTE-D'AZUR</td>\n",
       "      <td>Accompagnement</td>\n",
       "      <td>Endettement</td>\n",
       "      <td>\\N</td>\n",
       "      <td>Non Renseigne</td>\n",
       "      <td>...</td>\n",
       "      <td>0</td>\n",
       "      <td>\\N</td>\n",
       "      <td>0</td>\n",
       "      <td>\\N</td>\n",
       "      <td>1</td>\n",
       "      <td>3996</td>\n",
       "      <td>0</td>\n",
       "      <td>\\N</td>\n",
       "      <td>-24,7667</td>\n",
       "      <td>Négatif</td>\n",
       "    </tr>\n",
       "    <tr>\n",
       "      <th>3</th>\n",
       "      <td>1102</td>\n",
       "      <td>PRESCRIPTEUR6</td>\n",
       "      <td>bancaire</td>\n",
       "      <td>2014</td>\n",
       "      <td>11</td>\n",
       "      <td>BRETAGNE</td>\n",
       "      <td>Mediation</td>\n",
       "      <td>Multiendettement</td>\n",
       "      <td>\\N</td>\n",
       "      <td>Non Renseigne</td>\n",
       "      <td>...</td>\n",
       "      <td>0</td>\n",
       "      <td>\\N</td>\n",
       "      <td>0</td>\n",
       "      <td>\\N</td>\n",
       "      <td>0</td>\n",
       "      <td>\\N</td>\n",
       "      <td>0</td>\n",
       "      <td>\\N</td>\n",
       "      <td>29,5667</td>\n",
       "      <td>15€et+</td>\n",
       "    </tr>\n",
       "    <tr>\n",
       "      <th>4</th>\n",
       "      <td>7069</td>\n",
       "      <td>PRESCRIPTEUR23</td>\n",
       "      <td>social</td>\n",
       "      <td>2018</td>\n",
       "      <td>9</td>\n",
       "      <td>NOUVELLE AQUITAINE</td>\n",
       "      <td>Accompagnement</td>\n",
       "      <td>Difficultés de Gestion</td>\n",
       "      <td>24</td>\n",
       "      <td>&lt;25ans</td>\n",
       "      <td>...</td>\n",
       "      <td>0</td>\n",
       "      <td>\\N</td>\n",
       "      <td>0</td>\n",
       "      <td>\\N</td>\n",
       "      <td>0</td>\n",
       "      <td>\\N</td>\n",
       "      <td>0</td>\n",
       "      <td>\\N</td>\n",
       "      <td>-19,15</td>\n",
       "      <td>Négatif</td>\n",
       "    </tr>\n",
       "  </tbody>\n",
       "</table>\n",
       "<p>5 rows × 44 columns</p>\n",
       "</div>"
      ],
      "text/plain": [
       "     id STRUCTURE PRESCRIPTRICE PLATEFORME  year  month  \\\n",
       "0  1550          PRESCRIPTEUR35   bancaire  2015      7   \n",
       "1  2249          PRESCRIPTEUR16   bancaire  2016      2   \n",
       "2  2670          PRESCRIPTEUR18     social  2016      4   \n",
       "3  1102           PRESCRIPTEUR6   bancaire  2014     11   \n",
       "4  7069          PRESCRIPTEUR23     social  2018      9   \n",
       "\n",
       "                       region     ORIENTATION             NATURE_DIFF age  \\\n",
       "0     BOURGOGNE FRANCHE COMTE  Surendettement          Surendettement  \\N   \n",
       "1                   OCCITANIE       Mediation             Endettement  \\N   \n",
       "2  PROVENCE-ALPES-COTE-D'AZUR  Accompagnement             Endettement  \\N   \n",
       "3                    BRETAGNE       Mediation        Multiendettement  \\N   \n",
       "4          NOUVELLE AQUITAINE  Accompagnement  Difficultés de Gestion  24   \n",
       "\n",
       "     tranche_age        ...        nb_immo crd_immo  nb_rac crd_rac nb_autres  \\\n",
       "0  Non Renseigne        ...              0       \\N       0      \\N         0   \n",
       "1  Non Renseigne        ...              0       \\N       0      \\N         0   \n",
       "2  Non Renseigne        ...              0       \\N       0      \\N         1   \n",
       "3  Non Renseigne        ...              0       \\N       0      \\N         0   \n",
       "4         <25ans        ...              0       \\N       0      \\N         0   \n",
       "\n",
       "   crd_autres nb_decouvert  crd_decouvert moy_eco_jour  cat_moy_eco_jour  \n",
       "0          \\N            0             \\N      2,53333           0a2,99€  \n",
       "1          \\N            0             \\N     -3,31667           Négatif  \n",
       "2        3996            0             \\N     -24,7667           Négatif  \n",
       "3          \\N            0             \\N      29,5667            15€et+  \n",
       "4          \\N            0             \\N       -19,15           Négatif  \n",
       "\n",
       "[5 rows x 44 columns]"
      ]
     },
     "execution_count": 2,
     "metadata": {},
     "output_type": "execute_result"
    }
   ],
   "source": [
    "train = pd.read_csv('train.csv')\n",
    "train.head()"
   ]
  },
  {
   "cell_type": "code",
   "execution_count": 7,
   "metadata": {
    "scrolled": true
   },
   "outputs": [
    {
     "data": {
      "image/png": "[encoded data removed]",
      "text/plain": [
       "<Figure size 432x288 with 1 Axes>"
      ]
     },
     "metadata": {
      "needs_background": "light"
     },
     "output_type": "display_data"
    }
   ],
   "source": [
    "train = train.replace('\\\\N',np.NAN)\n",
    "train.isna().sum().sort_values(ascending=False)[:20].plot(kind='barh')\n",
    "plt.show()"
   ]
  },
  {
   "cell_type": "markdown",
   "metadata": {},
   "source": [
    "# Traitement des NA"
   ]
  },
  {
   "cell_type": "markdown",
   "metadata": {},
   "source": [
    "## CRD et nb"
   ]
  },
  {
   "cell_type": "code",
   "execution_count": 24,
   "metadata": {},
   "outputs": [
    {
     "data": {
      "text/plain": [
       "crd_decouvert    0.0\n",
       "nb_decouvert     0.0\n",
       "dtype: float64"
      ]
     },
     "execution_count": 24,
     "metadata": {},
     "output_type": "execute_result"
    }
   ],
   "source": [
    "train[train.crd_decouvert.isna()][['crd_decouvert','nb_decouvert']].sum()"
   ]
  },
  {
   "cell_type": "markdown",
   "metadata": {},
   "source": [
    "La colonne **crd_decouvert** contient des **NA** lorsque la colonne **nb_couvert**. Ce n'est donc pas un vrai manque de valeur. Nous pouvons remplacer ces **NA** par **0**.\n",
    "\n",
    "Vérifions cette hypothèse pour les colonnes **CRD - nb**."
   ]
  },
  {
   "cell_type": "code",
   "execution_count": 41,
   "metadata": {},
   "outputs": [
    {
     "name": "stdout",
     "output_type": "stream",
     "text": [
      "\n",
      "\n",
      "{'crd_amort': 0.0, 'nb_amort': 0.0}\n",
      "\n",
      "\n",
      "{'crd_renouv': 0.0, 'nb_renouv': 0.0}\n",
      "\n",
      "\n",
      "{'crd_immo': 0.0, 'nb_immo': 0.0}\n",
      "\n",
      "\n",
      "{'crd_rac': 0.0, 'nb_rac': 0.0}\n",
      "\n",
      "\n",
      "{'crd_autres': 0.0, 'nb_autres': 0.0}\n",
      "\n",
      "\n",
      "{'crd_decouvert': 0.0, 'nb_decouvert': 0.0}\n"
     ]
    }
   ],
   "source": [
    "for CRD in train.columns.tolist():\n",
    "    if 'crd_' in CRD:\n",
    "        _type = CRD.split('_')[1]\n",
    "        print('\\n')\n",
    "        print(dict(train[train[CRD].isna()][[CRD,f'nb_{_type}']].sum()))"
   ]
  },
  {
   "cell_type": "code",
   "execution_count": 50,
   "metadata": {},
   "outputs": [
    {
     "data": {
      "text/html": [
       "<div>\n",
       "<style scoped>\n",
       "    .dataframe tbody tr th:only-of-type {\n",
       "        vertical-align: middle;\n",
       "    }\n",
       "\n",
       "    .dataframe tbody tr th {\n",
       "        vertical-align: top;\n",
       "    }\n",
       "\n",
       "    .dataframe thead th {\n",
       "        text-align: right;\n",
       "    }\n",
       "</style>\n",
       "<table border=\"1\" class=\"dataframe\">\n",
       "  <thead>\n",
       "    <tr style=\"text-align: right;\">\n",
       "      <th></th>\n",
       "      <th>id</th>\n",
       "      <th>STRUCTURE PRESCRIPTRICE</th>\n",
       "      <th>PLATEFORME</th>\n",
       "      <th>year</th>\n",
       "      <th>month</th>\n",
       "      <th>region</th>\n",
       "      <th>ORIENTATION</th>\n",
       "      <th>NATURE_DIFF</th>\n",
       "      <th>age</th>\n",
       "      <th>tranche_age</th>\n",
       "      <th>...</th>\n",
       "      <th>nb_immo</th>\n",
       "      <th>crd_immo</th>\n",
       "      <th>nb_rac</th>\n",
       "      <th>crd_rac</th>\n",
       "      <th>nb_autres</th>\n",
       "      <th>crd_autres</th>\n",
       "      <th>nb_decouvert</th>\n",
       "      <th>crd_decouvert</th>\n",
       "      <th>moy_eco_jour</th>\n",
       "      <th>cat_moy_eco_jour</th>\n",
       "    </tr>\n",
       "  </thead>\n",
       "  <tbody>\n",
       "    <tr>\n",
       "      <th>0</th>\n",
       "      <td>1550</td>\n",
       "      <td>PRESCRIPTEUR35</td>\n",
       "      <td>bancaire</td>\n",
       "      <td>2015</td>\n",
       "      <td>7</td>\n",
       "      <td>BOURGOGNE FRANCHE COMTE</td>\n",
       "      <td>Surendettement</td>\n",
       "      <td>Surendettement</td>\n",
       "      <td>NaN</td>\n",
       "      <td>Non Renseigne</td>\n",
       "      <td>...</td>\n",
       "      <td>0</td>\n",
       "      <td>0</td>\n",
       "      <td>0</td>\n",
       "      <td>0</td>\n",
       "      <td>0</td>\n",
       "      <td>0</td>\n",
       "      <td>0</td>\n",
       "      <td>0</td>\n",
       "      <td>2,53333</td>\n",
       "      <td>0a2,99€</td>\n",
       "    </tr>\n",
       "    <tr>\n",
       "      <th>1</th>\n",
       "      <td>2249</td>\n",
       "      <td>PRESCRIPTEUR16</td>\n",
       "      <td>bancaire</td>\n",
       "      <td>2016</td>\n",
       "      <td>2</td>\n",
       "      <td>OCCITANIE</td>\n",
       "      <td>Mediation</td>\n",
       "      <td>Endettement</td>\n",
       "      <td>NaN</td>\n",
       "      <td>Non Renseigne</td>\n",
       "      <td>...</td>\n",
       "      <td>0</td>\n",
       "      <td>0</td>\n",
       "      <td>0</td>\n",
       "      <td>0</td>\n",
       "      <td>0</td>\n",
       "      <td>0</td>\n",
       "      <td>0</td>\n",
       "      <td>0</td>\n",
       "      <td>-3,31667</td>\n",
       "      <td>Négatif</td>\n",
       "    </tr>\n",
       "    <tr>\n",
       "      <th>2</th>\n",
       "      <td>2670</td>\n",
       "      <td>PRESCRIPTEUR18</td>\n",
       "      <td>social</td>\n",
       "      <td>2016</td>\n",
       "      <td>4</td>\n",
       "      <td>PROVENCE-ALPES-COTE-D'AZUR</td>\n",
       "      <td>Accompagnement</td>\n",
       "      <td>Endettement</td>\n",
       "      <td>NaN</td>\n",
       "      <td>Non Renseigne</td>\n",
       "      <td>...</td>\n",
       "      <td>0</td>\n",
       "      <td>0</td>\n",
       "      <td>0</td>\n",
       "      <td>0</td>\n",
       "      <td>1</td>\n",
       "      <td>3996</td>\n",
       "      <td>0</td>\n",
       "      <td>0</td>\n",
       "      <td>-24,7667</td>\n",
       "      <td>Négatif</td>\n",
       "    </tr>\n",
       "    <tr>\n",
       "      <th>3</th>\n",
       "      <td>1102</td>\n",
       "      <td>PRESCRIPTEUR6</td>\n",
       "      <td>bancaire</td>\n",
       "      <td>2014</td>\n",
       "      <td>11</td>\n",
       "      <td>BRETAGNE</td>\n",
       "      <td>Mediation</td>\n",
       "      <td>Multiendettement</td>\n",
       "      <td>NaN</td>\n",
       "      <td>Non Renseigne</td>\n",
       "      <td>...</td>\n",
       "      <td>0</td>\n",
       "      <td>0</td>\n",
       "      <td>0</td>\n",
       "      <td>0</td>\n",
       "      <td>0</td>\n",
       "      <td>0</td>\n",
       "      <td>0</td>\n",
       "      <td>0</td>\n",
       "      <td>29,5667</td>\n",
       "      <td>15€et+</td>\n",
       "    </tr>\n",
       "    <tr>\n",
       "      <th>4</th>\n",
       "      <td>7069</td>\n",
       "      <td>PRESCRIPTEUR23</td>\n",
       "      <td>social</td>\n",
       "      <td>2018</td>\n",
       "      <td>9</td>\n",
       "      <td>NOUVELLE AQUITAINE</td>\n",
       "      <td>Accompagnement</td>\n",
       "      <td>Difficultés de Gestion</td>\n",
       "      <td>24</td>\n",
       "      <td>&lt;25ans</td>\n",
       "      <td>...</td>\n",
       "      <td>0</td>\n",
       "      <td>0</td>\n",
       "      <td>0</td>\n",
       "      <td>0</td>\n",
       "      <td>0</td>\n",
       "      <td>0</td>\n",
       "      <td>0</td>\n",
       "      <td>0</td>\n",
       "      <td>-19,15</td>\n",
       "      <td>Négatif</td>\n",
       "    </tr>\n",
       "  </tbody>\n",
       "</table>\n",
       "<p>5 rows × 44 columns</p>\n",
       "</div>"
      ],
      "text/plain": [
       "     id STRUCTURE PRESCRIPTRICE PLATEFORME  year  month  \\\n",
       "0  1550          PRESCRIPTEUR35   bancaire  2015      7   \n",
       "1  2249          PRESCRIPTEUR16   bancaire  2016      2   \n",
       "2  2670          PRESCRIPTEUR18     social  2016      4   \n",
       "3  1102           PRESCRIPTEUR6   bancaire  2014     11   \n",
       "4  7069          PRESCRIPTEUR23     social  2018      9   \n",
       "\n",
       "                       region     ORIENTATION             NATURE_DIFF  age  \\\n",
       "0     BOURGOGNE FRANCHE COMTE  Surendettement          Surendettement  NaN   \n",
       "1                   OCCITANIE       Mediation             Endettement  NaN   \n",
       "2  PROVENCE-ALPES-COTE-D'AZUR  Accompagnement             Endettement  NaN   \n",
       "3                    BRETAGNE       Mediation        Multiendettement  NaN   \n",
       "4          NOUVELLE AQUITAINE  Accompagnement  Difficultés de Gestion   24   \n",
       "\n",
       "     tranche_age        ...        nb_immo crd_immo  nb_rac crd_rac nb_autres  \\\n",
       "0  Non Renseigne        ...              0        0       0       0         0   \n",
       "1  Non Renseigne        ...              0        0       0       0         0   \n",
       "2  Non Renseigne        ...              0        0       0       0         1   \n",
       "3  Non Renseigne        ...              0        0       0       0         0   \n",
       "4         <25ans        ...              0        0       0       0         0   \n",
       "\n",
       "   crd_autres nb_decouvert  crd_decouvert moy_eco_jour  cat_moy_eco_jour  \n",
       "0           0            0              0      2,53333           0a2,99€  \n",
       "1           0            0              0     -3,31667           Négatif  \n",
       "2        3996            0              0     -24,7667           Négatif  \n",
       "3           0            0              0      29,5667            15€et+  \n",
       "4           0            0              0       -19,15           Négatif  \n",
       "\n",
       "[5 rows x 44 columns]"
      ]
     },
     "execution_count": 50,
     "metadata": {},
     "output_type": "execute_result"
    }
   ],
   "source": [
    "for CRD in train.columns.tolist():\n",
    "    if 'crd_' in CRD:\n",
    "        train[CRD] = train[CRD].fillna(0)\n",
    "train.head()"
   ]
  },
  {
   "cell_type": "markdown",
   "metadata": {},
   "source": [
    "## Age"
   ]
  },
  {
   "cell_type": "code",
   "execution_count": 53,
   "metadata": {},
   "outputs": [],
   "source": [
    "train.tranche_age = train.tranche_age.replace('Non Renseigne', np.NAN)"
   ]
  },
  {
   "cell_type": "code",
   "execution_count": 60,
   "metadata": {},
   "outputs": [
    {
     "data": {
      "text/plain": [
       "<matplotlib.axes._subplots.AxesSubplot at 0x1241fb048>"
      ]
     },
     "execution_count": 60,
     "metadata": {},
     "output_type": "execute_result"
    },
    {
     "data": {
      "image/png": "[encoded data removed]",
      "text/plain": [
       "<Figure size 432x288 with 1 Axes>"
      ]
     },
     "metadata": {},
     "output_type": "display_data"
    }
   ],
   "source": [
    "train.tranche_age.value_counts(ascending=True,dropna=False,normalize=True).plot(kind='pie',)"
   ]
  },
  {
   "cell_type": "code",
   "execution_count": 105,
   "metadata": {
    "scrolled": false
   },
   "outputs": [
    {
     "data": {
      "text/plain": [
       "[<matplotlib.lines.Line2D at 0x12742ef98>]"
      ]
     },
     "execution_count": 105,
     "metadata": {},
     "output_type": "execute_result"
    },
    {
     "data": {
      "image/png": "[encoded data removed]",
      "text/plain": [
       "<Figure size 1224x720 with 1 Axes>"
      ]
     },
     "metadata": {
      "needs_background": "light"
     },
     "output_type": "display_data"
    }
   ],
   "source": [
    "ar = pd.DataFrame({'age':train.age.value_counts().index,'nb':train.age.value_counts().values}).sort_values('age')\n",
    "fig = plt.figure(figsize=(17, 10))\n",
    "plt.plot(ar.age,ar.nb)"
   ]
  },
  {
   "cell_type": "code",
   "execution_count": 104,
   "metadata": {},
   "outputs": [
    {
     "data": {
      "text/plain": [
       "0.405"
      ]
     },
     "execution_count": 104,
     "metadata": {},
     "output_type": "execute_result"
    }
   ],
   "source": [
    "round(train.age.isna().sum()/train.age.shape[0],ndigits=3)"
   ]
  },
  {
   "cell_type": "markdown",
   "metadata": {},
   "source": [
    "La répartition de l'**âge** est intéressante, on semble distinguer une **hyperbole centrée en 52**. Cependant il y a tout de même trop de **NA** pour les remplacer par la **mediane** de la colonne **âge**."
   ]
  },
  {
   "cell_type": "code",
   "execution_count": null,
   "metadata": {},
   "outputs": [],
   "source": []
  },
  {
   "cell_type": "code",
   "execution_count": null,
   "metadata": {},
   "outputs": [],
   "source": []
  },
  {
   "cell_type": "code",
   "execution_count": null,
   "metadata": {},
   "outputs": [],
   "source": []
  },
  {
   "cell_type": "markdown",
   "metadata": {},
   "source": [
    "# Traitement des données catégorielles"
   ]
  },
  {
   "cell_type": "code",
   "execution_count": 4,
   "metadata": {},
   "outputs": [
    {
     "data": {
      "text/plain": [
       "Surendettement                   0.42\n",
       "Accompagnement                   0.40\n",
       "Mediation                        0.09\n",
       "Aucune                           0.08\n",
       "Autres Procédures Collectives    0.01\n",
       "Microcredit                      0.00\n",
       "Name: ORIENTATION, dtype: float64"
      ]
     },
     "execution_count": 4,
     "metadata": {},
     "output_type": "execute_result"
    }
   ],
   "source": [
    "train.ORIENTATION.value_counts(normalize=True).round(2)"
   ]
  },
  {
   "cell_type": "markdown",
   "metadata": {},
   "source": [
    "Les deux catégories de classification majoritaires sont: **Surendettement** et **Accompagnement**"
   ]
  }
 ],
 "metadata": {
  "kernelspec": {
   "display_name": "Python 3",
   "language": "python",
   "name": "python3"
  },
  "language_info": {
   "codemirror_mode": {
    "name": "ipython",
    "version": 3
   },
   "file_extension": ".py",
   "mimetype": "text/x-python",
   "name": "python",
   "nbconvert_exporter": "python",
   "pygments_lexer": "ipython3",
   "version": "3.7.1"
  }
 },
 "nbformat": 4,
 "nbformat_minor": 2
}
