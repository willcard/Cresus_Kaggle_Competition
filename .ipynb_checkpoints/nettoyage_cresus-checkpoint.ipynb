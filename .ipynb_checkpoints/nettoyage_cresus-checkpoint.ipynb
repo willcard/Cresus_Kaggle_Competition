{
 "cells": [
  {
   "cell_type": "code",
   "execution_count": 30,
   "metadata": {},
   "outputs": [],
   "source": [
    "import pandas as pd\n",
    "import numpy as np\n",
    "\n",
    "import matplotlib\n",
    "import matplotlib.pyplot as plt\n",
    "%matplotlib inline"
   ]
  },
  {
   "cell_type": "code",
   "execution_count": 33,
   "metadata": {},
   "outputs": [
    {
     "data": {
      "text/html": [
       "<div>\n",
       "<style scoped>\n",
       "    .dataframe tbody tr th:only-of-type {\n",
       "        vertical-align: middle;\n",
       "    }\n",
       "\n",
       "    .dataframe tbody tr th {\n",
       "        vertical-align: top;\n",
       "    }\n",
       "\n",
       "    .dataframe thead th {\n",
       "        text-align: right;\n",
       "    }\n",
       "</style>\n",
       "<table border=\"1\" class=\"dataframe\">\n",
       "  <thead>\n",
       "    <tr style=\"text-align: right;\">\n",
       "      <th></th>\n",
       "      <th>id</th>\n",
       "      <th>STRUCTURE PRESCRIPTRICE</th>\n",
       "      <th>PLATEFORME</th>\n",
       "      <th>year</th>\n",
       "      <th>month</th>\n",
       "      <th>region</th>\n",
       "      <th>ORIENTATION</th>\n",
       "      <th>NATURE_DIFF</th>\n",
       "      <th>age</th>\n",
       "      <th>tranche_age</th>\n",
       "      <th>...</th>\n",
       "      <th>nb_immo</th>\n",
       "      <th>crd_immo</th>\n",
       "      <th>nb_rac</th>\n",
       "      <th>crd_rac</th>\n",
       "      <th>nb_autres</th>\n",
       "      <th>crd_autres</th>\n",
       "      <th>nb_decouvert</th>\n",
       "      <th>crd_decouvert</th>\n",
       "      <th>moy_eco_jour</th>\n",
       "      <th>cat_moy_eco_jour</th>\n",
       "    </tr>\n",
       "  </thead>\n",
       "  <tbody>\n",
       "    <tr>\n",
       "      <th>0</th>\n",
       "      <td>1550</td>\n",
       "      <td>PRESCRIPTEUR35</td>\n",
       "      <td>bancaire</td>\n",
       "      <td>2015</td>\n",
       "      <td>7</td>\n",
       "      <td>BOURGOGNE FRANCHE COMTE</td>\n",
       "      <td>Surendettement</td>\n",
       "      <td>Surendettement</td>\n",
       "      <td>\\N</td>\n",
       "      <td>Non Renseigne</td>\n",
       "      <td>...</td>\n",
       "      <td>0</td>\n",
       "      <td>\\N</td>\n",
       "      <td>0</td>\n",
       "      <td>\\N</td>\n",
       "      <td>0</td>\n",
       "      <td>\\N</td>\n",
       "      <td>0</td>\n",
       "      <td>\\N</td>\n",
       "      <td>2,53333</td>\n",
       "      <td>0a2,99€</td>\n",
       "    </tr>\n",
       "    <tr>\n",
       "      <th>1</th>\n",
       "      <td>2249</td>\n",
       "      <td>PRESCRIPTEUR16</td>\n",
       "      <td>bancaire</td>\n",
       "      <td>2016</td>\n",
       "      <td>2</td>\n",
       "      <td>OCCITANIE</td>\n",
       "      <td>Mediation</td>\n",
       "      <td>Endettement</td>\n",
       "      <td>\\N</td>\n",
       "      <td>Non Renseigne</td>\n",
       "      <td>...</td>\n",
       "      <td>0</td>\n",
       "      <td>\\N</td>\n",
       "      <td>0</td>\n",
       "      <td>\\N</td>\n",
       "      <td>0</td>\n",
       "      <td>\\N</td>\n",
       "      <td>0</td>\n",
       "      <td>\\N</td>\n",
       "      <td>-3,31667</td>\n",
       "      <td>Négatif</td>\n",
       "    </tr>\n",
       "    <tr>\n",
       "      <th>2</th>\n",
       "      <td>2670</td>\n",
       "      <td>PRESCRIPTEUR18</td>\n",
       "      <td>social</td>\n",
       "      <td>2016</td>\n",
       "      <td>4</td>\n",
       "      <td>PROVENCE-ALPES-COTE-D'AZUR</td>\n",
       "      <td>Accompagnement</td>\n",
       "      <td>Endettement</td>\n",
       "      <td>\\N</td>\n",
       "      <td>Non Renseigne</td>\n",
       "      <td>...</td>\n",
       "      <td>0</td>\n",
       "      <td>\\N</td>\n",
       "      <td>0</td>\n",
       "      <td>\\N</td>\n",
       "      <td>1</td>\n",
       "      <td>3996</td>\n",
       "      <td>0</td>\n",
       "      <td>\\N</td>\n",
       "      <td>-24,7667</td>\n",
       "      <td>Négatif</td>\n",
       "    </tr>\n",
       "    <tr>\n",
       "      <th>3</th>\n",
       "      <td>1102</td>\n",
       "      <td>PRESCRIPTEUR6</td>\n",
       "      <td>bancaire</td>\n",
       "      <td>2014</td>\n",
       "      <td>11</td>\n",
       "      <td>BRETAGNE</td>\n",
       "      <td>Mediation</td>\n",
       "      <td>Multiendettement</td>\n",
       "      <td>\\N</td>\n",
       "      <td>Non Renseigne</td>\n",
       "      <td>...</td>\n",
       "      <td>0</td>\n",
       "      <td>\\N</td>\n",
       "      <td>0</td>\n",
       "      <td>\\N</td>\n",
       "      <td>0</td>\n",
       "      <td>\\N</td>\n",
       "      <td>0</td>\n",
       "      <td>\\N</td>\n",
       "      <td>29,5667</td>\n",
       "      <td>15€et+</td>\n",
       "    </tr>\n",
       "    <tr>\n",
       "      <th>4</th>\n",
       "      <td>7069</td>\n",
       "      <td>PRESCRIPTEUR23</td>\n",
       "      <td>social</td>\n",
       "      <td>2018</td>\n",
       "      <td>9</td>\n",
       "      <td>NOUVELLE AQUITAINE</td>\n",
       "      <td>Accompagnement</td>\n",
       "      <td>Difficultés de Gestion</td>\n",
       "      <td>24</td>\n",
       "      <td>&lt;25ans</td>\n",
       "      <td>...</td>\n",
       "      <td>0</td>\n",
       "      <td>\\N</td>\n",
       "      <td>0</td>\n",
       "      <td>\\N</td>\n",
       "      <td>0</td>\n",
       "      <td>\\N</td>\n",
       "      <td>0</td>\n",
       "      <td>\\N</td>\n",
       "      <td>-19,15</td>\n",
       "      <td>Négatif</td>\n",
       "    </tr>\n",
       "  </tbody>\n",
       "</table>\n",
       "<p>5 rows × 44 columns</p>\n",
       "</div>"
      ],
      "text/plain": [
       "     id STRUCTURE PRESCRIPTRICE PLATEFORME  year  month  \\\n",
       "0  1550          PRESCRIPTEUR35   bancaire  2015      7   \n",
       "1  2249          PRESCRIPTEUR16   bancaire  2016      2   \n",
       "2  2670          PRESCRIPTEUR18     social  2016      4   \n",
       "3  1102           PRESCRIPTEUR6   bancaire  2014     11   \n",
       "4  7069          PRESCRIPTEUR23     social  2018      9   \n",
       "\n",
       "                       region     ORIENTATION             NATURE_DIFF age  \\\n",
       "0     BOURGOGNE FRANCHE COMTE  Surendettement          Surendettement  \\N   \n",
       "1                   OCCITANIE       Mediation             Endettement  \\N   \n",
       "2  PROVENCE-ALPES-COTE-D'AZUR  Accompagnement             Endettement  \\N   \n",
       "3                    BRETAGNE       Mediation        Multiendettement  \\N   \n",
       "4          NOUVELLE AQUITAINE  Accompagnement  Difficultés de Gestion  24   \n",
       "\n",
       "     tranche_age        ...        nb_immo crd_immo  nb_rac crd_rac nb_autres  \\\n",
       "0  Non Renseigne        ...              0       \\N       0      \\N         0   \n",
       "1  Non Renseigne        ...              0       \\N       0      \\N         0   \n",
       "2  Non Renseigne        ...              0       \\N       0      \\N         1   \n",
       "3  Non Renseigne        ...              0       \\N       0      \\N         0   \n",
       "4         <25ans        ...              0       \\N       0      \\N         0   \n",
       "\n",
       "   crd_autres nb_decouvert  crd_decouvert moy_eco_jour  cat_moy_eco_jour  \n",
       "0          \\N            0             \\N      2,53333           0a2,99€  \n",
       "1          \\N            0             \\N     -3,31667           Négatif  \n",
       "2        3996            0             \\N     -24,7667           Négatif  \n",
       "3          \\N            0             \\N      29,5667            15€et+  \n",
       "4          \\N            0             \\N       -19,15           Négatif  \n",
       "\n",
       "[5 rows x 44 columns]"
      ]
     },
     "execution_count": 33,
     "metadata": {},
     "output_type": "execute_result"
    }
   ],
   "source": [
    "train = pd.read_csv('data/train.csv')\n",
    "train.head()"
   ]
  },
  {
   "cell_type": "markdown",
   "metadata": {},
   "source": [
    "## I - Traitement des types"
   ]
  },
  {
   "cell_type": "code",
   "execution_count": 29,
   "metadata": {},
   "outputs": [
    {
     "data": {
      "text/plain": [
       "STRUCTURE PRESCRIPTRICE    object\n",
       "PLATEFORME                 object\n",
       "region                     object\n",
       "ORIENTATION                object\n",
       "NATURE_DIFF                object\n",
       "age                        object\n",
       "tranche_age                object\n",
       "situation                  object\n",
       "adulte_foyer               object\n",
       "PROF                       object\n",
       "LOGEMENT                   object\n",
       "cat_rev                    object\n",
       "cat_charges                object\n",
       "cat_credit                 object\n",
       "cat_impayes                object\n",
       "cat_RAV_ouverture          object\n",
       "RAV_UC                     object\n",
       "cat_RAV_UC                 object\n",
       "CRD                        object\n",
       "crd_amort                  object\n",
       "crd_renouv                 object\n",
       "crd_immo                   object\n",
       "crd_rac                    object\n",
       "crd_autres                 object\n",
       "crd_decouvert              object\n",
       "moy_eco_jour               object\n",
       "cat_moy_eco_jour           object\n",
       "dtype: object"
      ]
     },
     "execution_count": 29,
     "metadata": {},
     "output_type": "execute_result"
    }
   ],
   "source": [
    "train.dtypes[train.dtypes.astype(str) == 'object']"
   ]
  },
  {
   "cell_type": "code",
   "execution_count": 36,
   "metadata": {},
   "outputs": [
    {
     "data": {
      "text/plain": [
       "array(['0a2,99€', 'Négatif', '15€et+', '3a5,99€', '10a14,99€', '\\\\N',\n",
       "       '6a9,99€'], dtype=object)"
      ]
     },
     "execution_count": 36,
     "metadata": {},
     "output_type": "execute_result"
    }
   ],
   "source": [
    "train.cat_moy_eco_jour.unique()"
   ]
  },
  {
   "cell_type": "markdown",
   "metadata": {},
   "source": [
    "## II - Traitement des NA"
   ]
  },
  {
   "cell_type": "code",
   "execution_count": 4,
   "metadata": {
    "scrolled": false
   },
   "outputs": [
    {
     "data": {
      "image/png": "[encoded data removed]",
      "text/plain": [
       "<Figure size 1008x432 with 1 Axes>"
      ]
     },
     "metadata": {
      "needs_background": "light"
     },
     "output_type": "display_data"
    }
   ],
   "source": [
    "train_na = train.isna().sum()/train.shape[0]\n",
    "\n",
    "plt.figure(figsize=(14,6))\n",
    "train_na.sort_values(ascending=False)[:20].plot(kind='barh')\n",
    "plt.show()"
   ]
  },
  {
   "cell_type": "markdown",
   "metadata": {},
   "source": [
    "Certaines colonnes contiennent plus de **80%** de **NA** ce qui est beaucoup **trop important** pour appliquer une méthode de **fillna**. "
   ]
  },
  {
   "cell_type": "markdown",
   "metadata": {},
   "source": [
    "## • CRD et nb"
   ]
  },
  {
   "cell_type": "code",
   "execution_count": 5,
   "metadata": {},
   "outputs": [
    {
     "data": {
      "text/plain": [
       "crd_decouvert    0.0\n",
       "nb_decouvert     0.0\n",
       "dtype: float64"
      ]
     },
     "execution_count": 5,
     "metadata": {},
     "output_type": "execute_result"
    }
   ],
   "source": [
    "train[train.crd_decouvert.isna()][['crd_decouvert','nb_decouvert']].sum()"
   ]
  },
  {
   "cell_type": "markdown",
   "metadata": {},
   "source": [
    "La colonne **crd_decouvert** contient des **NA** lorsque la colonne **nb_couvert**. Ce n'est donc pas un vrai manque de valeur. Nous pouvons remplacer ces **NA** par **0**.\n",
    "\n",
    "Vérifions cette hypothèse pour les colonnes **CRD - nb**."
   ]
  },
  {
   "cell_type": "code",
   "execution_count": 6,
   "metadata": {},
   "outputs": [
    {
     "name": "stdout",
     "output_type": "stream",
     "text": [
      "\n",
      "\n",
      "{'crd_amort': 0.0, 'nb_amort': 0.0}\n",
      "\n",
      "\n",
      "{'crd_renouv': 0.0, 'nb_renouv': 0.0}\n",
      "\n",
      "\n",
      "{'crd_immo': 0.0, 'nb_immo': 0.0}\n",
      "\n",
      "\n",
      "{'crd_rac': 0.0, 'nb_rac': 0.0}\n",
      "\n",
      "\n",
      "{'crd_autres': 0.0, 'nb_autres': 0.0}\n",
      "\n",
      "\n",
      "{'crd_decouvert': 0.0, 'nb_decouvert': 0.0}\n"
     ]
    }
   ],
   "source": [
    "for CRD in train.columns.tolist():\n",
    "    if 'crd_' in CRD:\n",
    "        _type = CRD.split('_')[1]\n",
    "        print('\\n')\n",
    "        print(dict(train[train[CRD].isna()][[CRD,f'nb_{_type}']].sum()))"
   ]
  },
  {
   "cell_type": "code",
   "execution_count": 7,
   "metadata": {},
   "outputs": [
    {
     "data": {
      "text/html": [
       "<div>\n",
       "<style scoped>\n",
       "    .dataframe tbody tr th:only-of-type {\n",
       "        vertical-align: middle;\n",
       "    }\n",
       "\n",
       "    .dataframe tbody tr th {\n",
       "        vertical-align: top;\n",
       "    }\n",
       "\n",
       "    .dataframe thead th {\n",
       "        text-align: right;\n",
       "    }\n",
       "</style>\n",
       "<table border=\"1\" class=\"dataframe\">\n",
       "  <thead>\n",
       "    <tr style=\"text-align: right;\">\n",
       "      <th></th>\n",
       "      <th>id</th>\n",
       "      <th>STRUCTURE PRESCRIPTRICE</th>\n",
       "      <th>PLATEFORME</th>\n",
       "      <th>year</th>\n",
       "      <th>month</th>\n",
       "      <th>region</th>\n",
       "      <th>ORIENTATION</th>\n",
       "      <th>NATURE_DIFF</th>\n",
       "      <th>age</th>\n",
       "      <th>tranche_age</th>\n",
       "      <th>...</th>\n",
       "      <th>nb_immo</th>\n",
       "      <th>crd_immo</th>\n",
       "      <th>nb_rac</th>\n",
       "      <th>crd_rac</th>\n",
       "      <th>nb_autres</th>\n",
       "      <th>crd_autres</th>\n",
       "      <th>nb_decouvert</th>\n",
       "      <th>crd_decouvert</th>\n",
       "      <th>moy_eco_jour</th>\n",
       "      <th>cat_moy_eco_jour</th>\n",
       "    </tr>\n",
       "  </thead>\n",
       "  <tbody>\n",
       "    <tr>\n",
       "      <th>0</th>\n",
       "      <td>1550</td>\n",
       "      <td>PRESCRIPTEUR35</td>\n",
       "      <td>bancaire</td>\n",
       "      <td>2015</td>\n",
       "      <td>7</td>\n",
       "      <td>BOURGOGNE FRANCHE COMTE</td>\n",
       "      <td>Surendettement</td>\n",
       "      <td>Surendettement</td>\n",
       "      <td>NaN</td>\n",
       "      <td>Non Renseigne</td>\n",
       "      <td>...</td>\n",
       "      <td>0</td>\n",
       "      <td>0</td>\n",
       "      <td>0</td>\n",
       "      <td>0</td>\n",
       "      <td>0</td>\n",
       "      <td>0</td>\n",
       "      <td>0</td>\n",
       "      <td>0</td>\n",
       "      <td>2,53333</td>\n",
       "      <td>0a2,99€</td>\n",
       "    </tr>\n",
       "    <tr>\n",
       "      <th>1</th>\n",
       "      <td>2249</td>\n",
       "      <td>PRESCRIPTEUR16</td>\n",
       "      <td>bancaire</td>\n",
       "      <td>2016</td>\n",
       "      <td>2</td>\n",
       "      <td>OCCITANIE</td>\n",
       "      <td>Mediation</td>\n",
       "      <td>Endettement</td>\n",
       "      <td>NaN</td>\n",
       "      <td>Non Renseigne</td>\n",
       "      <td>...</td>\n",
       "      <td>0</td>\n",
       "      <td>0</td>\n",
       "      <td>0</td>\n",
       "      <td>0</td>\n",
       "      <td>0</td>\n",
       "      <td>0</td>\n",
       "      <td>0</td>\n",
       "      <td>0</td>\n",
       "      <td>-3,31667</td>\n",
       "      <td>Négatif</td>\n",
       "    </tr>\n",
       "    <tr>\n",
       "      <th>2</th>\n",
       "      <td>2670</td>\n",
       "      <td>PRESCRIPTEUR18</td>\n",
       "      <td>social</td>\n",
       "      <td>2016</td>\n",
       "      <td>4</td>\n",
       "      <td>PROVENCE-ALPES-COTE-D'AZUR</td>\n",
       "      <td>Accompagnement</td>\n",
       "      <td>Endettement</td>\n",
       "      <td>NaN</td>\n",
       "      <td>Non Renseigne</td>\n",
       "      <td>...</td>\n",
       "      <td>0</td>\n",
       "      <td>0</td>\n",
       "      <td>0</td>\n",
       "      <td>0</td>\n",
       "      <td>1</td>\n",
       "      <td>3996</td>\n",
       "      <td>0</td>\n",
       "      <td>0</td>\n",
       "      <td>-24,7667</td>\n",
       "      <td>Négatif</td>\n",
       "    </tr>\n",
       "    <tr>\n",
       "      <th>3</th>\n",
       "      <td>1102</td>\n",
       "      <td>PRESCRIPTEUR6</td>\n",
       "      <td>bancaire</td>\n",
       "      <td>2014</td>\n",
       "      <td>11</td>\n",
       "      <td>BRETAGNE</td>\n",
       "      <td>Mediation</td>\n",
       "      <td>Multiendettement</td>\n",
       "      <td>NaN</td>\n",
       "      <td>Non Renseigne</td>\n",
       "      <td>...</td>\n",
       "      <td>0</td>\n",
       "      <td>0</td>\n",
       "      <td>0</td>\n",
       "      <td>0</td>\n",
       "      <td>0</td>\n",
       "      <td>0</td>\n",
       "      <td>0</td>\n",
       "      <td>0</td>\n",
       "      <td>29,5667</td>\n",
       "      <td>15€et+</td>\n",
       "    </tr>\n",
       "    <tr>\n",
       "      <th>4</th>\n",
       "      <td>7069</td>\n",
       "      <td>PRESCRIPTEUR23</td>\n",
       "      <td>social</td>\n",
       "      <td>2018</td>\n",
       "      <td>9</td>\n",
       "      <td>NOUVELLE AQUITAINE</td>\n",
       "      <td>Accompagnement</td>\n",
       "      <td>Difficultés de Gestion</td>\n",
       "      <td>24</td>\n",
       "      <td>&lt;25ans</td>\n",
       "      <td>...</td>\n",
       "      <td>0</td>\n",
       "      <td>0</td>\n",
       "      <td>0</td>\n",
       "      <td>0</td>\n",
       "      <td>0</td>\n",
       "      <td>0</td>\n",
       "      <td>0</td>\n",
       "      <td>0</td>\n",
       "      <td>-19,15</td>\n",
       "      <td>Négatif</td>\n",
       "    </tr>\n",
       "  </tbody>\n",
       "</table>\n",
       "<p>5 rows × 44 columns</p>\n",
       "</div>"
      ],
      "text/plain": [
       "     id STRUCTURE PRESCRIPTRICE PLATEFORME  year  month  \\\n",
       "0  1550          PRESCRIPTEUR35   bancaire  2015      7   \n",
       "1  2249          PRESCRIPTEUR16   bancaire  2016      2   \n",
       "2  2670          PRESCRIPTEUR18     social  2016      4   \n",
       "3  1102           PRESCRIPTEUR6   bancaire  2014     11   \n",
       "4  7069          PRESCRIPTEUR23     social  2018      9   \n",
       "\n",
       "                       region     ORIENTATION             NATURE_DIFF  age  \\\n",
       "0     BOURGOGNE FRANCHE COMTE  Surendettement          Surendettement  NaN   \n",
       "1                   OCCITANIE       Mediation             Endettement  NaN   \n",
       "2  PROVENCE-ALPES-COTE-D'AZUR  Accompagnement             Endettement  NaN   \n",
       "3                    BRETAGNE       Mediation        Multiendettement  NaN   \n",
       "4          NOUVELLE AQUITAINE  Accompagnement  Difficultés de Gestion   24   \n",
       "\n",
       "     tranche_age        ...        nb_immo crd_immo  nb_rac crd_rac nb_autres  \\\n",
       "0  Non Renseigne        ...              0        0       0       0         0   \n",
       "1  Non Renseigne        ...              0        0       0       0         0   \n",
       "2  Non Renseigne        ...              0        0       0       0         1   \n",
       "3  Non Renseigne        ...              0        0       0       0         0   \n",
       "4         <25ans        ...              0        0       0       0         0   \n",
       "\n",
       "   crd_autres nb_decouvert  crd_decouvert moy_eco_jour  cat_moy_eco_jour  \n",
       "0           0            0              0      2,53333           0a2,99€  \n",
       "1           0            0              0     -3,31667           Négatif  \n",
       "2        3996            0              0     -24,7667           Négatif  \n",
       "3           0            0              0      29,5667            15€et+  \n",
       "4           0            0              0       -19,15           Négatif  \n",
       "\n",
       "[5 rows x 44 columns]"
      ]
     },
     "execution_count": 7,
     "metadata": {},
     "output_type": "execute_result"
    }
   ],
   "source": [
    "for CRD in train.columns.tolist():\n",
    "    if 'crd_' in CRD:\n",
    "        train[CRD] = train[CRD].fillna(0)\n",
    "train.head()"
   ]
  },
  {
   "cell_type": "code",
   "execution_count": 8,
   "metadata": {},
   "outputs": [
    {
     "data": {
      "image/png": "[encoded data removed]",
      "text/plain": [
       "<Figure size 1008x432 with 1 Axes>"
      ]
     },
     "metadata": {
      "needs_background": "light"
     },
     "output_type": "display_data"
    }
   ],
   "source": [
    "train_na = train.isna().sum()/train.shape[0]\n",
    "\n",
    "plt.figure(figsize=(14,6))\n",
    "train_na.sort_values(ascending=False)[:20].plot(kind='barh')\n",
    "plt.show()"
   ]
  },
  {
   "cell_type": "markdown",
   "metadata": {},
   "source": [
    "## • Age"
   ]
  },
  {
   "cell_type": "code",
   "execution_count": 9,
   "metadata": {},
   "outputs": [],
   "source": [
    "train.tranche_age = train.tranche_age.replace('Non Renseigne', np.NAN)"
   ]
  },
  {
   "cell_type": "code",
   "execution_count": 10,
   "metadata": {},
   "outputs": [
    {
     "data": {
      "text/plain": [
       "<matplotlib.axes._subplots.AxesSubplot at 0x118e7f198>"
      ]
     },
     "execution_count": 10,
     "metadata": {},
     "output_type": "execute_result"
    },
    {
     "data": {
      "image/png": "[encoded data removed]",
      "text/plain": [
       "<Figure size 432x288 with 1 Axes>"
      ]
     },
     "metadata": {},
     "output_type": "display_data"
    }
   ],
   "source": [
    "train.tranche_age.value_counts(ascending=True,dropna=False,normalize=True).plot(kind='pie',)"
   ]
  },
  {
   "cell_type": "code",
   "execution_count": 11,
   "metadata": {
    "scrolled": false
   },
   "outputs": [
    {
     "data": {
      "text/plain": [
       "[<matplotlib.lines.Line2D at 0x119028c88>]"
      ]
     },
     "execution_count": 11,
     "metadata": {},
     "output_type": "execute_result"
    },
    {
     "data": {
      "image/png": "[encoded data removed]",
      "text/plain": [
       "<Figure size 1224x720 with 1 Axes>"
      ]
     },
     "metadata": {
      "needs_background": "light"
     },
     "output_type": "display_data"
    }
   ],
   "source": [
    "ar = pd.DataFrame({'age':train.age.value_counts().index,'nb':train.age.value_counts().values}).sort_values('age')\n",
    "fig = plt.figure(figsize=(17, 10))\n",
    "plt.plot(ar.age,ar.nb)"
   ]
  },
  {
   "cell_type": "code",
   "execution_count": 12,
   "metadata": {},
   "outputs": [
    {
     "data": {
      "text/plain": [
       "0.405"
      ]
     },
     "execution_count": 12,
     "metadata": {},
     "output_type": "execute_result"
    }
   ],
   "source": [
    "round(train.age.isna().sum()/train.age.shape[0],ndigits=3)"
   ]
  },
  {
   "cell_type": "markdown",
   "metadata": {},
   "source": [
    "La répartition de l'**âge** est intéressante, on semble distinguer une **hyperbole centrée en 52**. Cependant il y a tout de même trop de **NA** (**40%**) pour les remplacer par la **mediane** de la colonne **âge**. On  pourrait cependant utiliser la **median/moyenne** d'âge en groupant par **region, profession ou personne à charge**."
   ]
  },
  {
   "cell_type": "code",
   "execution_count": 13,
   "metadata": {},
   "outputs": [
    {
     "data": {
      "text/plain": [
       "52.0"
      ]
     },
     "execution_count": 13,
     "metadata": {},
     "output_type": "execute_result"
    }
   ],
   "source": [
    "pd.to_numeric(train.age, errors='coerce').median()"
   ]
  },
  {
   "cell_type": "markdown",
   "metadata": {},
   "source": [
    "# !!!!  A FAIRE   !!!"
   ]
  },
  {
   "cell_type": "code",
   "execution_count": null,
   "metadata": {},
   "outputs": [],
   "source": []
  },
  {
   "cell_type": "code",
   "execution_count": null,
   "metadata": {},
   "outputs": [],
   "source": []
  },
  {
   "cell_type": "markdown",
   "metadata": {},
   "source": [
    "## • IMPAYES DEBUT"
   ]
  },
  {
   "cell_type": "code",
   "execution_count": 14,
   "metadata": {},
   "outputs": [
    {
     "name": "stdout",
     "output_type": "stream",
     "text": [
      "MAX: 10889.0\n",
      "MIN: 35.0\n",
      "Median: 1107.5\n",
      "Moyenne: 1199\n",
      "NA: 0.85\n"
     ]
    }
   ],
   "source": [
    "print(f'MAX: {pd.to_numeric(train.IMPAYES_DEBUT, errors=\"coerce\").max()}')\n",
    "print(f'MIN: {pd.to_numeric(train.IMPAYES_DEBUT, errors=\"coerce\").min()}')\n",
    "print(f'Median: {pd.to_numeric(train.IMPAYES_DEBUT, errors=\"coerce\").median()}')\n",
    "print(f'Moyenne: {round(pd.to_numeric(train.IMPAYES_DEBUT, errors=\"coerce\").mean())}')\n",
    "print(f'NA: {round(train.IMPAYES_DEBUT.isna().sum()/train.shape[0],ndigits=2)}')"
   ]
  },
  {
   "cell_type": "markdown",
   "metadata": {},
   "source": [
    "Cette colonne contient beaucoup beaucoup **trop de NA**. Je ne vois pas, **pour l'instant**, de méthode pour la combler.\n",
    "\n",
    "Nous la supprimons **pour l'instant**."
   ]
  },
  {
   "cell_type": "code",
   "execution_count": 15,
   "metadata": {},
   "outputs": [],
   "source": [
    "train = train.drop(columns=['IMPAYES_DEBUT'])"
   ]
  },
  {
   "cell_type": "markdown",
   "metadata": {},
   "source": [
    "## • GAIN MEDIATION"
   ]
  },
  {
   "cell_type": "code",
   "execution_count": 16,
   "metadata": {},
   "outputs": [
    {
     "name": "stdout",
     "output_type": "stream",
     "text": [
      "MAX: 4359.0\n",
      "MIN: -16.0\n",
      "Median: 514.0\n",
      "Moyenne: 686\n",
      "NA: 0.97\n"
     ]
    }
   ],
   "source": [
    "print(f'MAX: {pd.to_numeric(train.gain_mediation, errors=\"coerce\").max()}')\n",
    "print(f'MIN: {pd.to_numeric(train.gain_mediation, errors=\"coerce\").min()}')\n",
    "print(f'Median: {pd.to_numeric(train.gain_mediation, errors=\"coerce\").median()}')\n",
    "print(f'Moyenne: {round(pd.to_numeric(train.gain_mediation, errors=\"coerce\").mean())}')\n",
    "print(f'NA: {round(train.gain_mediation.isna().sum()/train.shape[0],ndigits=2)}')"
   ]
  },
  {
   "cell_type": "code",
   "execution_count": 17,
   "metadata": {},
   "outputs": [
    {
     "data": {
      "text/plain": [
       "array([nan, '32', '456', '309', '508', '613', '562', '-16', '1320', '554',\n",
       "       '514', '1243', '1382', '181', '4359', '885', '555', '236', '1321',\n",
       "       '321', '252', '267', '552', '238', '733', '434', '952', '126',\n",
       "       '1375', '956', '0', '394', '139', '297', '116', '338', '275',\n",
       "       '1211', '292', '595', '1567', '543', '1168', '1169', '1924', '495',\n",
       "       '114', '384', '2154', '1634', '1391', '843', '156', '213', '1727',\n",
       "       '720', '545', '1307', '90', '2328', '825', '975', '902', '1064',\n",
       "       '306', '459', '1051', '232', '754', '326', '433', '25', '656',\n",
       "       '122', '308', '391', '1405', '198', '903', '425', '986', '999',\n",
       "       '168', '476', '591', '322', '779', '1424', '891', '60', '553',\n",
       "       '1359', '173', '343', '302', '1012', '96', '673', '1908', '725',\n",
       "       '405', '94', '151', '671', '341', '453', '274', '24', '770', '167',\n",
       "       '2419', '1723', '333', '526', '688', '74', '485', '544', '475'],\n",
       "      dtype=object)"
      ]
     },
     "execution_count": 17,
     "metadata": {},
     "output_type": "execute_result"
    }
   ],
   "source": [
    "train.gain_mediation.unique()"
   ]
  },
  {
   "cell_type": "code",
   "execution_count": 18,
   "metadata": {},
   "outputs": [],
   "source": [
    "train.gain_mediation = train.gain_mediation.fillna(0).astype(int)"
   ]
  },
  {
   "cell_type": "markdown",
   "metadata": {},
   "source": [
    "## • Résultat du nettoyage des NA"
   ]
  },
  {
   "cell_type": "code",
   "execution_count": 19,
   "metadata": {},
   "outputs": [
    {
     "data": {
      "image/png": "[encoded data removed]",
      "text/plain": [
       "<Figure size 1008x432 with 1 Axes>"
      ]
     },
     "metadata": {
      "needs_background": "light"
     },
     "output_type": "display_data"
    }
   ],
   "source": [
    "train_na = train.isna().sum()/train.shape[0]\n",
    "\n",
    "plt.figure(figsize=(14,6))\n",
    "train_na.sort_values(ascending=False)[:20].plot(kind='barh')\n",
    "plt.show()"
   ]
  },
  {
   "cell_type": "markdown",
   "metadata": {},
   "source": [
    "# III - Traitement des données catégorielles"
   ]
  },
  {
   "cell_type": "code",
   "execution_count": 20,
   "metadata": {},
   "outputs": [
    {
     "data": {
      "text/plain": [
       "id                          int64\n",
       "STRUCTURE PRESCRIPTRICE    object\n",
       "PLATEFORME                 object\n",
       "year                        int64\n",
       "month                       int64\n",
       "region                     object\n",
       "ORIENTATION                object\n",
       "NATURE_DIFF                object\n",
       "age                        object\n",
       "tranche_age                object\n",
       "situation                  object\n",
       "adulte_foyer               object\n",
       "pers_a_charge               int64\n",
       "PROF                       object\n",
       "LOGEMENT                   object\n",
       "REVENUS                     int64\n",
       "cat_rev                    object\n",
       "CHARGES                     int64\n",
       "cat_charges                object\n",
       "CREDITS                     int64\n",
       "cat_credit                 object\n",
       "cat_impayes                object\n",
       "RAV_ouverture               int64\n",
       "cat_RAV_ouverture          object\n",
       "RAV_UC                     object\n",
       "cat_RAV_UC                 object\n",
       "nb_credits                  int64\n",
       "CRD                        object\n",
       "gain_mediation              int64\n",
       "nb_amort                    int64\n",
       "crd_amort                  object\n",
       "nb_renouv                   int64\n",
       "crd_renouv                 object\n",
       "nb_immo                     int64\n",
       "crd_immo                   object\n",
       "nb_rac                      int64\n",
       "crd_rac                    object\n",
       "nb_autres                   int64\n",
       "crd_autres                 object\n",
       "nb_decouvert                int64\n",
       "crd_decouvert              object\n",
       "moy_eco_jour               object\n",
       "cat_moy_eco_jour           object\n",
       "dtype: object"
      ]
     },
     "execution_count": 20,
     "metadata": {},
     "output_type": "execute_result"
    }
   ],
   "source": [
    "train.dtypes"
   ]
  },
  {
   "cell_type": "code",
   "execution_count": 21,
   "metadata": {},
   "outputs": [
    {
     "data": {
      "text/plain": [
       "Surendettement                   0.42\n",
       "Accompagnement                   0.40\n",
       "Mediation                        0.09\n",
       "Aucune                           0.08\n",
       "Autres Procédures Collectives    0.01\n",
       "Microcredit                      0.00\n",
       "Name: ORIENTATION, dtype: float64"
      ]
     },
     "execution_count": 21,
     "metadata": {},
     "output_type": "execute_result"
    }
   ],
   "source": [
    "train.ORIENTATION.value_counts(normalize=True).round(2)"
   ]
  },
  {
   "cell_type": "markdown",
   "metadata": {},
   "source": [
    "Les deux catégories de classification majoritaires sont: **Surendettement** et **Accompagnement**"
   ]
  }
 ],
 "metadata": {
  "kernelspec": {
   "display_name": "Python 3",
   "language": "python",
   "name": "python3"
  },
  "language_info": {
   "codemirror_mode": {
    "name": "ipython",
    "version": 3
   },
   "file_extension": ".py",
   "mimetype": "text/x-python",
   "name": "python",
   "nbconvert_exporter": "python",
   "pygments_lexer": "ipython3",
   "version": "3.7.1"
  }
 },
 "nbformat": 4,
 "nbformat_minor": 2
}
