{
 "cells": [
  {
   "cell_type": "code",
   "execution_count": 1,
   "metadata": {},
   "outputs": [],
   "source": [
    "import pandas as pd\n",
    "import numpy as np\n",
    "\n",
    "import matplotlib\n",
    "import matplotlib.pyplot as plt\n",
    "%matplotlib inline\n",
    "\n",
    "from bokeh.plotting import figure, show, output_file\n",
    "import seaborn as sns"
   ]
  },
  {
   "cell_type": "code",
   "execution_count": 2,
   "metadata": {},
   "outputs": [],
   "source": [
    "train = pd.read_csv('data/train.csv')\n",
    "train = train.replace('\\\\N',np.NAN)\n",
    "n,p = train.shape"
   ]
  },
  {
   "cell_type": "code",
   "execution_count": 3,
   "metadata": {},
   "outputs": [],
   "source": [
    "def traitement_types(df):\n",
    "    train_ = df.copy()\n",
    "    \n",
    "    for c in train_.columns:\n",
    "        if 'crd_' in c or c in ['CRD','IMPAYES_DEBUT','age','adulte_foyer']:\n",
    "            train_[c] = pd.to_numeric(train[c], errors='coerce')\n",
    "        \n",
    "    train_.moy_eco_jour = train_.moy_eco_jour.str.replace(',', '.', regex=False).astype(float)\n",
    "    train_.RAV_UC = train_.RAV_UC.str.replace(',', '.', regex=False).astype(float)\n",
    "    \n",
    "    train_['Date'] = pd.to_datetime(train_.year.astype(str) + '-' + train_.month.astype(str), format='%Y-%m')\n",
    "    train_ = train_.drop(columns=['year','month'])\n",
    "    \n",
    "    return train_\n"
   ]
  },
  {
   "cell_type": "code",
   "execution_count": 4,
   "metadata": {},
   "outputs": [],
   "source": [
    "def trancheAge(x):\n",
    "    age = x.age\n",
    "    if age < 25:\n",
    "        return '<25ans'\n",
    "\n",
    "    elif age >= 25 and age <= 34:\n",
    "        return  '25-34ans'\n",
    "\n",
    "    elif age >= 35 and age <= 44:\n",
    "        return  '35-44ans'\n",
    "\n",
    "    elif age >= 45 and age <= 54:\n",
    "        return  '45-54ans'\n",
    "\n",
    "    elif age >= 55 and age <= 64:\n",
    "        return  '55-64ans'\n",
    "\n",
    "    elif age >= 65 and age <= 74:\n",
    "        return  '65-74ans'\n",
    "\n",
    "    elif age >= 75:\n",
    "        return '>75ans'\n",
    "    \n",
    "    \n",
    "def traitement_na(df):\n",
    "    train_ = df.copy()\n",
    "    \n",
    "    train_ = train_.replace('Non Renseigne', np.NAN)\n",
    "    for CRD in train.columns.tolist():\n",
    "        if 'crd_' in CRD:\n",
    "            train_[CRD] = train_[CRD].fillna(0)\n",
    "    \n",
    "    for p in train_.PROF.unique():\n",
    "        med = train_.loc[train_.PROF == p].age.median()\n",
    "        train_.loc[train_.PROF == p, 'age'] = train_.loc[train_.PROF == p, 'age'].fillna(med)\n",
    "    \n",
    "    train_.tranche_age = train_.apply(lambda x: trancheAge(x), axis=1)\n",
    "    \n",
    "    train_ = train_.drop(columns=['IMPAYES_DEBUT'])\n",
    "    \n",
    "    train_.gain_mediation = train_.gain_mediation.fillna(0).astype(int)\n",
    "    \n",
    "    train_.cat_impayes = train_.cat_impayes.fillna('Inconnu')\n",
    "    \n",
    "    train_ = train_.dropna()\n",
    "    \n",
    "    return train_"
   ]
  },
  {
   "cell_type": "code",
   "execution_count": 5,
   "metadata": {},
   "outputs": [],
   "source": [
    "train = traitement_types(train)\n",
    "train = traitement_na(train)\n",
    "\n",
    "cols_categorielles = list(train.dtypes[train.dtypes == 'object'].to_dict().keys())\n",
    "\n",
    "for cc in cols_categorielles:\n",
    "    cat_dtype = pd.api.types.CategoricalDtype(categories=train[cc].unique().tolist(), ordered=False)\n",
    "    train[cc] = train[cc].astype(cat_dtype)\n",
    "\n",
    "train.shape\n"
   ]
  },
  {
   "cell_type": "markdown",
   "metadata": {},
   "source": [
    "# I - Kmeans"
   ]
  },
  {
   "cell_type": "code",
   "execution_count": 7,
   "metadata": {},
   "outputs": [],
   "source": [
    "from sklearn.cluster import KMeans"
   ]
  },
  {
   "cell_type": "code",
   "execution_count": 9,
   "metadata": {},
   "outputs": [
    {
     "data": {
      "text/plain": [
       "(25, 25)"
      ]
     },
     "execution_count": 9,
     "metadata": {},
     "output_type": "execute_result"
    }
   ],
   "source": [
    "non_cat = train.drop(columns=cols_categorielles+['Date'])"
   ]
  }
 ],
 "metadata": {
  "kernelspec": {
   "display_name": "Python 3",
   "language": "python",
   "name": "python3"
  },
  "language_info": {
   "codemirror_mode": {
    "name": "ipython",
    "version": 3
   },
   "file_extension": ".py",
   "mimetype": "text/x-python",
   "name": "python",
   "nbconvert_exporter": "python",
   "pygments_lexer": "ipython3",
   "version": "3.7.1"
  }
 },
 "nbformat": 4,
 "nbformat_minor": 2
}
